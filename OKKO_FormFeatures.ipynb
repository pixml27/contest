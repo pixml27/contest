{
 "cells": [
  {
   "cell_type": "code",
   "execution_count": 1,
   "metadata": {},
   "outputs": [],
   "source": [
    "import os\n",
    "import json\n",
    "import pandas as pd\n",
    "import numpy as np\n",
    "import tqdm\n",
    "import scipy.sparse as sp\n",
    "\n",
    "from pprint import pprint\n",
    "\n",
    "DATA_PATH = 'D:\\download'\n",
    "transactions = pd.read_csv(\n",
    "    os.path.join(DATA_PATH, 'transactions.csv'),\n",
    "    dtype={\n",
    "        'element_uid': np.uint16,\n",
    "        'user_uid': np.uint32,\n",
    "        'consumption_mode': 'category',\n",
    "        'ts': np.float64,\n",
    "        'watched_time': np.uint64,\n",
    "        'device_type': np.uint8,\n",
    "        'device_manufacturer': np.uint8\n",
    "    }\n",
    ")\n",
    "\n",
    "\n",
    "\n",
    "transactions_exp = pd.read_csv(\n",
    "    os.path.join(DATA_PATH, 'transactions_exp.csv'),\n",
    "    \n",
    ")\n",
    "\n",
    "\n",
    "ratings = pd.read_csv(\n",
    "    os.path.join(DATA_PATH, 'ratings.csv'),\n",
    "    dtype={\n",
    "        'element_uid': np.uint16,\n",
    "        'user_uid': np.uint32,\n",
    "        'ts': np.float64,\n",
    "        'rating': np.uint8\n",
    "    }\n",
    ")\n"
   ]
  },
  {
   "cell_type": "code",
   "execution_count": 2,
   "metadata": {},
   "outputs": [
    {
     "name": "stdout",
     "output_type": "stream",
     "text": [
      "Wall time: 1.8 s\n"
     ]
    }
   ],
   "source": [
    "%%time\n",
    "bookmarks = pd.read_csv(\n",
    "    os.path.join(DATA_PATH, 'bookmarks.csv'),\n",
    "    dtype={\n",
    "        'element_uid': np.uint16,\n",
    "        'user_uid': np.uint32,\n",
    "        'ts': np.float64\n",
    "    }\n",
    ")\n",
    "bookmarks.head()\n",
    "from collections import Counter\n",
    "catal=pd.read_json(os.path.join(DATA_PATH, 'catalogue.json'), orient='index') "
   ]
  },
  {
   "cell_type": "code",
   "execution_count": 5,
   "metadata": {},
   "outputs": [
    {
     "data": {
      "text/html": [
       "<div>\n",
       "<style scoped>\n",
       "    .dataframe tbody tr th:only-of-type {\n",
       "        vertical-align: middle;\n",
       "    }\n",
       "\n",
       "    .dataframe tbody tr th {\n",
       "        vertical-align: top;\n",
       "    }\n",
       "\n",
       "    .dataframe thead th {\n",
       "        text-align: right;\n",
       "    }\n",
       "</style>\n",
       "<table border=\"1\" class=\"dataframe\">\n",
       "  <thead>\n",
       "    <tr style=\"text-align: right;\">\n",
       "      <th></th>\n",
       "      <th>user_uid</th>\n",
       "      <th>element_uid</th>\n",
       "      <th>rating</th>\n",
       "      <th>ts</th>\n",
       "    </tr>\n",
       "  </thead>\n",
       "  <tbody>\n",
       "    <tr>\n",
       "      <th>0</th>\n",
       "      <td>571252</td>\n",
       "      <td>1364</td>\n",
       "      <td>10</td>\n",
       "      <td>4.430517e+07</td>\n",
       "    </tr>\n",
       "    <tr>\n",
       "      <th>1</th>\n",
       "      <td>63140</td>\n",
       "      <td>3037</td>\n",
       "      <td>10</td>\n",
       "      <td>4.430514e+07</td>\n",
       "    </tr>\n",
       "    <tr>\n",
       "      <th>2</th>\n",
       "      <td>443817</td>\n",
       "      <td>4363</td>\n",
       "      <td>8</td>\n",
       "      <td>4.430514e+07</td>\n",
       "    </tr>\n",
       "    <tr>\n",
       "      <th>3</th>\n",
       "      <td>359870</td>\n",
       "      <td>1364</td>\n",
       "      <td>10</td>\n",
       "      <td>4.430506e+07</td>\n",
       "    </tr>\n",
       "    <tr>\n",
       "      <th>4</th>\n",
       "      <td>359870</td>\n",
       "      <td>3578</td>\n",
       "      <td>9</td>\n",
       "      <td>4.430506e+07</td>\n",
       "    </tr>\n",
       "  </tbody>\n",
       "</table>\n",
       "</div>"
      ],
      "text/plain": [
       "   user_uid  element_uid  rating            ts\n",
       "0    571252         1364      10  4.430517e+07\n",
       "1     63140         3037      10  4.430514e+07\n",
       "2    443817         4363       8  4.430514e+07\n",
       "3    359870         1364      10  4.430506e+07\n",
       "4    359870         3578       9  4.430506e+07"
      ]
     },
     "execution_count": 5,
     "metadata": {},
     "output_type": "execute_result"
    }
   ],
   "source": [
    "ratings.head()"
   ]
  },
  {
   "cell_type": "code",
   "execution_count": 3,
   "metadata": {},
   "outputs": [
    {
     "data": {
      "text/html": [
       "<div>\n",
       "<style scoped>\n",
       "    .dataframe tbody tr th:only-of-type {\n",
       "        vertical-align: middle;\n",
       "    }\n",
       "\n",
       "    .dataframe tbody tr th {\n",
       "        vertical-align: top;\n",
       "    }\n",
       "\n",
       "    .dataframe thead th {\n",
       "        text-align: right;\n",
       "    }\n",
       "</style>\n",
       "<table border=\"1\" class=\"dataframe\">\n",
       "  <thead>\n",
       "    <tr style=\"text-align: right;\">\n",
       "      <th></th>\n",
       "      <th>user_uid</th>\n",
       "      <th>element_uid</th>\n",
       "      <th>ts</th>\n",
       "    </tr>\n",
       "  </thead>\n",
       "  <tbody>\n",
       "    <tr>\n",
       "      <th>0</th>\n",
       "      <td>301135</td>\n",
       "      <td>7185</td>\n",
       "      <td>4.430516e+07</td>\n",
       "    </tr>\n",
       "    <tr>\n",
       "      <th>1</th>\n",
       "      <td>301135</td>\n",
       "      <td>4083</td>\n",
       "      <td>4.430516e+07</td>\n",
       "    </tr>\n",
       "    <tr>\n",
       "      <th>2</th>\n",
       "      <td>301135</td>\n",
       "      <td>10158</td>\n",
       "      <td>4.430516e+07</td>\n",
       "    </tr>\n",
       "    <tr>\n",
       "      <th>3</th>\n",
       "      <td>301135</td>\n",
       "      <td>2693</td>\n",
       "      <td>4.430516e+07</td>\n",
       "    </tr>\n",
       "    <tr>\n",
       "      <th>4</th>\n",
       "      <td>301135</td>\n",
       "      <td>2181</td>\n",
       "      <td>4.430515e+07</td>\n",
       "    </tr>\n",
       "  </tbody>\n",
       "</table>\n",
       "</div>"
      ],
      "text/plain": [
       "   user_uid  element_uid            ts\n",
       "0    301135         7185  4.430516e+07\n",
       "1    301135         4083  4.430516e+07\n",
       "2    301135        10158  4.430516e+07\n",
       "3    301135         2693  4.430516e+07\n",
       "4    301135         2181  4.430515e+07"
      ]
     },
     "execution_count": 3,
     "metadata": {},
     "output_type": "execute_result"
    }
   ],
   "source": [
    "bookmarks.head()"
   ]
  },
  {
   "cell_type": "code",
   "execution_count": 6,
   "metadata": {},
   "outputs": [
    {
     "data": {
      "text/html": [
       "<div>\n",
       "<style scoped>\n",
       "    .dataframe tbody tr th:only-of-type {\n",
       "        vertical-align: middle;\n",
       "    }\n",
       "\n",
       "    .dataframe tbody tr th {\n",
       "        vertical-align: top;\n",
       "    }\n",
       "\n",
       "    .dataframe thead th {\n",
       "        text-align: right;\n",
       "    }\n",
       "</style>\n",
       "<table border=\"1\" class=\"dataframe\">\n",
       "  <thead>\n",
       "    <tr style=\"text-align: right;\">\n",
       "      <th></th>\n",
       "      <th>Unnamed: 0</th>\n",
       "      <th>element_uid</th>\n",
       "      <th>user_uid</th>\n",
       "      <th>watched_time</th>\n",
       "      <th>rating</th>\n",
       "      <th>duration</th>\n",
       "      <th>feature_1</th>\n",
       "      <th>feature_2</th>\n",
       "      <th>feature_3</th>\n",
       "      <th>feature_4</th>\n",
       "      <th>...</th>\n",
       "      <th>feature_5_-1</th>\n",
       "      <th>feature_5_44</th>\n",
       "      <th>smallf3</th>\n",
       "      <th>middlef3</th>\n",
       "      <th>bigf3</th>\n",
       "      <th>type_m</th>\n",
       "      <th>type_s</th>\n",
       "      <th>type_mm</th>\n",
       "      <th>longfilm</th>\n",
       "      <th>shortfilm</th>\n",
       "    </tr>\n",
       "  </thead>\n",
       "  <tbody>\n",
       "    <tr>\n",
       "      <th>0</th>\n",
       "      <td>0</td>\n",
       "      <td>3336</td>\n",
       "      <td>5177</td>\n",
       "      <td>0.792963</td>\n",
       "      <td>9.0</td>\n",
       "      <td>90</td>\n",
       "      <td>4.166108e+07</td>\n",
       "      <td>0.739609</td>\n",
       "      <td>45</td>\n",
       "      <td>1.141929</td>\n",
       "      <td>...</td>\n",
       "      <td>0</td>\n",
       "      <td>0</td>\n",
       "      <td>0</td>\n",
       "      <td>0</td>\n",
       "      <td>1</td>\n",
       "      <td>1</td>\n",
       "      <td>0</td>\n",
       "      <td>0</td>\n",
       "      <td>0</td>\n",
       "      <td>0</td>\n",
       "    </tr>\n",
       "    <tr>\n",
       "      <th>1</th>\n",
       "      <td>1</td>\n",
       "      <td>3336</td>\n",
       "      <td>349202</td>\n",
       "      <td>0.609444</td>\n",
       "      <td>NaN</td>\n",
       "      <td>90</td>\n",
       "      <td>4.166108e+07</td>\n",
       "      <td>0.739609</td>\n",
       "      <td>45</td>\n",
       "      <td>1.141929</td>\n",
       "      <td>...</td>\n",
       "      <td>0</td>\n",
       "      <td>0</td>\n",
       "      <td>0</td>\n",
       "      <td>0</td>\n",
       "      <td>1</td>\n",
       "      <td>1</td>\n",
       "      <td>0</td>\n",
       "      <td>0</td>\n",
       "      <td>0</td>\n",
       "      <td>0</td>\n",
       "    </tr>\n",
       "    <tr>\n",
       "      <th>2</th>\n",
       "      <td>2</td>\n",
       "      <td>3336</td>\n",
       "      <td>117582</td>\n",
       "      <td>1.060556</td>\n",
       "      <td>NaN</td>\n",
       "      <td>90</td>\n",
       "      <td>4.166108e+07</td>\n",
       "      <td>0.739609</td>\n",
       "      <td>45</td>\n",
       "      <td>1.141929</td>\n",
       "      <td>...</td>\n",
       "      <td>0</td>\n",
       "      <td>0</td>\n",
       "      <td>0</td>\n",
       "      <td>0</td>\n",
       "      <td>1</td>\n",
       "      <td>1</td>\n",
       "      <td>0</td>\n",
       "      <td>0</td>\n",
       "      <td>0</td>\n",
       "      <td>0</td>\n",
       "    </tr>\n",
       "    <tr>\n",
       "      <th>3</th>\n",
       "      <td>3</td>\n",
       "      <td>3336</td>\n",
       "      <td>523833</td>\n",
       "      <td>0.804815</td>\n",
       "      <td>NaN</td>\n",
       "      <td>90</td>\n",
       "      <td>4.166108e+07</td>\n",
       "      <td>0.739609</td>\n",
       "      <td>45</td>\n",
       "      <td>1.141929</td>\n",
       "      <td>...</td>\n",
       "      <td>0</td>\n",
       "      <td>0</td>\n",
       "      <td>0</td>\n",
       "      <td>0</td>\n",
       "      <td>1</td>\n",
       "      <td>1</td>\n",
       "      <td>0</td>\n",
       "      <td>0</td>\n",
       "      <td>0</td>\n",
       "      <td>0</td>\n",
       "    </tr>\n",
       "    <tr>\n",
       "      <th>4</th>\n",
       "      <td>4</td>\n",
       "      <td>3336</td>\n",
       "      <td>571064</td>\n",
       "      <td>0.845926</td>\n",
       "      <td>NaN</td>\n",
       "      <td>90</td>\n",
       "      <td>4.166108e+07</td>\n",
       "      <td>0.739609</td>\n",
       "      <td>45</td>\n",
       "      <td>1.141929</td>\n",
       "      <td>...</td>\n",
       "      <td>0</td>\n",
       "      <td>0</td>\n",
       "      <td>0</td>\n",
       "      <td>0</td>\n",
       "      <td>1</td>\n",
       "      <td>1</td>\n",
       "      <td>0</td>\n",
       "      <td>0</td>\n",
       "      <td>0</td>\n",
       "      <td>0</td>\n",
       "    </tr>\n",
       "  </tbody>\n",
       "</table>\n",
       "<p>5 rows × 29 columns</p>\n",
       "</div>"
      ],
      "text/plain": [
       "   Unnamed: 0  element_uid  user_uid  watched_time  rating  duration  \\\n",
       "0           0         3336      5177      0.792963     9.0        90   \n",
       "1           1         3336    349202      0.609444     NaN        90   \n",
       "2           2         3336    117582      1.060556     NaN        90   \n",
       "3           3         3336    523833      0.804815     NaN        90   \n",
       "4           4         3336    571064      0.845926     NaN        90   \n",
       "\n",
       "      feature_1  feature_2  feature_3  feature_4    ...      feature_5_-1  \\\n",
       "0  4.166108e+07   0.739609         45   1.141929    ...                 0   \n",
       "1  4.166108e+07   0.739609         45   1.141929    ...                 0   \n",
       "2  4.166108e+07   0.739609         45   1.141929    ...                 0   \n",
       "3  4.166108e+07   0.739609         45   1.141929    ...                 0   \n",
       "4  4.166108e+07   0.739609         45   1.141929    ...                 0   \n",
       "\n",
       "   feature_5_44  smallf3  middlef3  bigf3  type_m  type_s  type_mm  longfilm  \\\n",
       "0             0        0         0      1       1       0        0         0   \n",
       "1             0        0         0      1       1       0        0         0   \n",
       "2             0        0         0      1       1       0        0         0   \n",
       "3             0        0         0      1       1       0        0         0   \n",
       "4             0        0         0      1       1       0        0         0   \n",
       "\n",
       "   shortfilm  \n",
       "0          0  \n",
       "1          0  \n",
       "2          0  \n",
       "3          0  \n",
       "4          0  \n",
       "\n",
       "[5 rows x 29 columns]"
      ]
     },
     "execution_count": 6,
     "metadata": {},
     "output_type": "execute_result"
    }
   ],
   "source": [
    "transactions_exp.head()"
   ]
  },
  {
   "cell_type": "code",
   "execution_count": 7,
   "metadata": {},
   "outputs": [],
   "source": [
    "transactions_exp.to_csv(os.path.join(DATA_PATH, 'transactions_exp.csv'))"
   ]
  },
  {
   "cell_type": "code",
   "execution_count": 10,
   "metadata": {},
   "outputs": [
    {
     "data": {
      "text/plain": [
       "Counter({0: 7651772,\n",
       "         3: 855860,\n",
       "         5: 591265,\n",
       "         4: 219254,\n",
       "         1: 298108,\n",
       "         6: 26740,\n",
       "         2: 13})"
      ]
     },
     "execution_count": 10,
     "metadata": {},
     "output_type": "execute_result"
    }
   ],
   "source": [
    "Counter(transactions.device_type)"
   ]
  },
  {
   "cell_type": "code",
   "execution_count": 11,
   "metadata": {},
   "outputs": [
    {
     "data": {
      "text/plain": [
       "Counter({50: 4416390,\n",
       "         11: 2258114,\n",
       "         99: 1799240,\n",
       "         31: 51498,\n",
       "         67: 55007,\n",
       "         90: 647198,\n",
       "         85: 118445,\n",
       "         76: 219254,\n",
       "         94: 13187,\n",
       "         41: 2538,\n",
       "         82: 13886,\n",
       "         52: 9832,\n",
       "         20: 5838,\n",
       "         0: 5078,\n",
       "         38: 3132,\n",
       "         2: 241,\n",
       "         37: 1037,\n",
       "         59: 1507,\n",
       "         42: 1827,\n",
       "         57: 213,\n",
       "         62: 1273,\n",
       "         97: 2928,\n",
       "         40: 365,\n",
       "         44: 724,\n",
       "         78: 2416,\n",
       "         80: 254,\n",
       "         79: 238,\n",
       "         86: 133,\n",
       "         71: 22,\n",
       "         5: 311,\n",
       "         27: 192,\n",
       "         26: 149,\n",
       "         33: 231,\n",
       "         30: 105,\n",
       "         98: 301,\n",
       "         4: 89,\n",
       "         93: 27,\n",
       "         73: 611,\n",
       "         15: 770,\n",
       "         12: 173,\n",
       "         48: 81,\n",
       "         32: 179,\n",
       "         3: 40,\n",
       "         39: 25,\n",
       "         24: 109,\n",
       "         95: 221,\n",
       "         21: 306,\n",
       "         43: 421,\n",
       "         56: 43,\n",
       "         89: 384,\n",
       "         51: 359,\n",
       "         87: 217,\n",
       "         28: 665,\n",
       "         55: 301,\n",
       "         66: 116,\n",
       "         19: 34,\n",
       "         70: 96,\n",
       "         64: 176,\n",
       "         22: 27,\n",
       "         35: 146,\n",
       "         68: 25,\n",
       "         8: 57,\n",
       "         7: 374,\n",
       "         17: 984,\n",
       "         16: 396,\n",
       "         46: 23,\n",
       "         58: 52,\n",
       "         77: 92,\n",
       "         36: 54,\n",
       "         34: 39,\n",
       "         63: 414,\n",
       "         84: 21,\n",
       "         18: 237,\n",
       "         60: 391,\n",
       "         91: 23,\n",
       "         6: 46,\n",
       "         96: 95,\n",
       "         23: 174,\n",
       "         47: 39,\n",
       "         81: 45,\n",
       "         53: 46,\n",
       "         1: 29,\n",
       "         13: 48,\n",
       "         45: 23,\n",
       "         54: 22,\n",
       "         88: 23,\n",
       "         61: 31,\n",
       "         69: 13,\n",
       "         10: 31,\n",
       "         75: 54,\n",
       "         65: 47,\n",
       "         74: 69,\n",
       "         72: 28,\n",
       "         25: 31,\n",
       "         9: 37,\n",
       "         14: 36,\n",
       "         92: 33,\n",
       "         83: 32,\n",
       "         29: 33,\n",
       "         49: 45})"
      ]
     },
     "execution_count": 11,
     "metadata": {},
     "output_type": "execute_result"
    }
   ],
   "source": [
    "Counter(transactions.device_manufacturer)"
   ]
  },
  {
   "cell_type": "code",
   "execution_count": 9,
   "metadata": {},
   "outputs": [
    {
     "data": {
      "text/html": [
       "<div>\n",
       "<style scoped>\n",
       "    .dataframe tbody tr th:only-of-type {\n",
       "        vertical-align: middle;\n",
       "    }\n",
       "\n",
       "    .dataframe tbody tr th {\n",
       "        vertical-align: top;\n",
       "    }\n",
       "\n",
       "    .dataframe thead th {\n",
       "        text-align: right;\n",
       "    }\n",
       "</style>\n",
       "<table border=\"1\" class=\"dataframe\">\n",
       "  <thead>\n",
       "    <tr style=\"text-align: right;\">\n",
       "      <th></th>\n",
       "      <th>attributes</th>\n",
       "      <th>availability</th>\n",
       "      <th>duration</th>\n",
       "      <th>feature_1</th>\n",
       "      <th>feature_2</th>\n",
       "      <th>feature_3</th>\n",
       "      <th>feature_4</th>\n",
       "      <th>feature_5</th>\n",
       "      <th>type</th>\n",
       "    </tr>\n",
       "  </thead>\n",
       "  <tbody>\n",
       "    <tr>\n",
       "      <th>0</th>\n",
       "      <td>[31115, 6713, 10906, 31116, 31117, 270, 24431,...</td>\n",
       "      <td>[]</td>\n",
       "      <td>80</td>\n",
       "      <td>2.912198e+07</td>\n",
       "      <td>0.575260</td>\n",
       "      <td>0</td>\n",
       "      <td>1.128332</td>\n",
       "      <td>0.654707</td>\n",
       "      <td>movie</td>\n",
       "    </tr>\n",
       "    <tr>\n",
       "      <th>1</th>\n",
       "      <td>[2786, 385, 2799, 3730, 886, 7, 11700, 42, 20,...</td>\n",
       "      <td>[purchase, rent]</td>\n",
       "      <td>120</td>\n",
       "      <td>6.610431e+06</td>\n",
       "      <td>0.773224</td>\n",
       "      <td>3</td>\n",
       "      <td>1.112014</td>\n",
       "      <td>0.654707</td>\n",
       "      <td>movie</td>\n",
       "    </tr>\n",
       "    <tr>\n",
       "      <th>10</th>\n",
       "      <td>[10511, 2752, 9076, 1373, 472, 7, 10512, 42, 4...</td>\n",
       "      <td>[]</td>\n",
       "      <td>100</td>\n",
       "      <td>1.666610e+07</td>\n",
       "      <td>0.700997</td>\n",
       "      <td>0</td>\n",
       "      <td>1.130076</td>\n",
       "      <td>0.654707</td>\n",
       "      <td>movie</td>\n",
       "    </tr>\n",
       "    <tr>\n",
       "      <th>100</th>\n",
       "      <td>[18441, 16300, 16580, 18770, 18771, 18643, 396...</td>\n",
       "      <td>[purchase, rent]</td>\n",
       "      <td>80</td>\n",
       "      <td>6.064739e+06</td>\n",
       "      <td>0.752751</td>\n",
       "      <td>4</td>\n",
       "      <td>0.953710</td>\n",
       "      <td>0.000000</td>\n",
       "      <td>movie</td>\n",
       "    </tr>\n",
       "    <tr>\n",
       "      <th>1000</th>\n",
       "      <td>[1256, 441, 19806, 15224, 16708, 83, 336, 1980...</td>\n",
       "      <td>[]</td>\n",
       "      <td>80</td>\n",
       "      <td>9.115019e+06</td>\n",
       "      <td>0.689883</td>\n",
       "      <td>0</td>\n",
       "      <td>1.128332</td>\n",
       "      <td>0.680410</td>\n",
       "      <td>movie</td>\n",
       "    </tr>\n",
       "  </tbody>\n",
       "</table>\n",
       "</div>"
      ],
      "text/plain": [
       "                                             attributes      availability  \\\n",
       "0     [31115, 6713, 10906, 31116, 31117, 270, 24431,...                []   \n",
       "1     [2786, 385, 2799, 3730, 886, 7, 11700, 42, 20,...  [purchase, rent]   \n",
       "10    [10511, 2752, 9076, 1373, 472, 7, 10512, 42, 4...                []   \n",
       "100   [18441, 16300, 16580, 18770, 18771, 18643, 396...  [purchase, rent]   \n",
       "1000  [1256, 441, 19806, 15224, 16708, 83, 336, 1980...                []   \n",
       "\n",
       "      duration     feature_1  feature_2  feature_3  feature_4  feature_5  \\\n",
       "0           80  2.912198e+07   0.575260          0   1.128332   0.654707   \n",
       "1          120  6.610431e+06   0.773224          3   1.112014   0.654707   \n",
       "10         100  1.666610e+07   0.700997          0   1.130076   0.654707   \n",
       "100         80  6.064739e+06   0.752751          4   0.953710   0.000000   \n",
       "1000        80  9.115019e+06   0.689883          0   1.128332   0.680410   \n",
       "\n",
       "       type  \n",
       "0     movie  \n",
       "1     movie  \n",
       "10    movie  \n",
       "100   movie  \n",
       "1000  movie  "
      ]
     },
     "execution_count": 9,
     "metadata": {},
     "output_type": "execute_result"
    }
   ],
   "source": [
    "catal.head()"
   ]
  },
  {
   "cell_type": "code",
   "execution_count": 36,
   "metadata": {},
   "outputs": [
    {
     "data": {
      "text/plain": [
       "100"
      ]
     },
     "execution_count": 36,
     "metadata": {},
     "output_type": "execute_result"
    }
   ],
   "source": [
    "len(pd.unique(transactions.device_manufacturer))"
   ]
  },
  {
   "cell_type": "code",
   "execution_count": 6,
   "metadata": {},
   "outputs": [],
   "source": [
    "transactions=transactions.drop(['consumption_mode', 'ts', 'watched_time', 'device_type', 'device_manufacturer'], 1)"
   ]
  },
  {
   "cell_type": "code",
   "execution_count": 12,
   "metadata": {},
   "outputs": [],
   "source": [
    "book_exp=pd.merge(transactions, bookmarks, on=['element_uid', 'user_uid'])"
   ]
  },
  {
   "cell_type": "code",
   "execution_count": 8,
   "metadata": {},
   "outputs": [
    {
     "name": "stdout",
     "output_type": "stream",
     "text": [
      "<class 'pandas.core.frame.DataFrame'>\n",
      "RangeIndex: 948216 entries, 0 to 948215\n",
      "Data columns (total 3 columns):\n",
      "user_uid       948216 non-null uint32\n",
      "element_uid    948216 non-null uint16\n",
      "ts             948216 non-null float64\n",
      "dtypes: float64(1), uint16(1), uint32(1)\n",
      "memory usage: 12.7 MB\n"
     ]
    }
   ],
   "source": [
    "bookmarks.info()"
   ]
  },
  {
   "cell_type": "code",
   "execution_count": 10,
   "metadata": {},
   "outputs": [
    {
     "name": "stdout",
     "output_type": "stream",
     "text": [
      "<class 'pandas.core.frame.DataFrame'>\n",
      "RangeIndex: 9643012 entries, 0 to 9643011\n",
      "Data columns (total 2 columns):\n",
      "element_uid    uint16\n",
      "user_uid       uint32\n",
      "dtypes: uint16(1), uint32(1)\n",
      "memory usage: 55.2 MB\n"
     ]
    }
   ],
   "source": [
    "transactions.info()"
   ]
  },
  {
   "cell_type": "code",
   "execution_count": 23,
   "metadata": {},
   "outputs": [
    {
     "name": "stdout",
     "output_type": "stream",
     "text": [
      "<class 'pandas.core.frame.DataFrame'>\n",
      "Int64Index: 264722 entries, 0 to 264721\n",
      "Data columns (total 3 columns):\n",
      "element_uid    264722 non-null uint16\n",
      "user_uid       264722 non-null uint32\n",
      "seen           264722 non-null int64\n",
      "dtypes: int64(1), uint16(1), uint32(1)\n",
      "memory usage: 5.6 MB\n"
     ]
    }
   ],
   "source": [
    "book_exp.info()"
   ]
  },
  {
   "cell_type": "code",
   "execution_count": 16,
   "metadata": {},
   "outputs": [
    {
     "data": {
      "text/html": [
       "<div>\n",
       "<style scoped>\n",
       "    .dataframe tbody tr th:only-of-type {\n",
       "        vertical-align: middle;\n",
       "    }\n",
       "\n",
       "    .dataframe tbody tr th {\n",
       "        vertical-align: top;\n",
       "    }\n",
       "\n",
       "    .dataframe thead th {\n",
       "        text-align: right;\n",
       "    }\n",
       "</style>\n",
       "<table border=\"1\" class=\"dataframe\">\n",
       "  <thead>\n",
       "    <tr style=\"text-align: right;\">\n",
       "      <th></th>\n",
       "      <th>element_uid</th>\n",
       "      <th>user_uid</th>\n",
       "      <th>seen</th>\n",
       "    </tr>\n",
       "  </thead>\n",
       "  <tbody>\n",
       "    <tr>\n",
       "      <th>0</th>\n",
       "      <td>6857</td>\n",
       "      <td>498196</td>\n",
       "      <td>1</td>\n",
       "    </tr>\n",
       "    <tr>\n",
       "      <th>1</th>\n",
       "      <td>5961</td>\n",
       "      <td>525448</td>\n",
       "      <td>1</td>\n",
       "    </tr>\n",
       "    <tr>\n",
       "      <th>2</th>\n",
       "      <td>8578</td>\n",
       "      <td>270094</td>\n",
       "      <td>1</td>\n",
       "    </tr>\n",
       "    <tr>\n",
       "      <th>3</th>\n",
       "      <td>6235</td>\n",
       "      <td>344328</td>\n",
       "      <td>1</td>\n",
       "    </tr>\n",
       "    <tr>\n",
       "      <th>4</th>\n",
       "      <td>2694</td>\n",
       "      <td>345519</td>\n",
       "      <td>1</td>\n",
       "    </tr>\n",
       "  </tbody>\n",
       "</table>\n",
       "</div>"
      ],
      "text/plain": [
       "   element_uid  user_uid  seen\n",
       "0         6857    498196     1\n",
       "1         5961    525448     1\n",
       "2         8578    270094     1\n",
       "3         6235    344328     1\n",
       "4         2694    345519     1"
      ]
     },
     "execution_count": 16,
     "metadata": {},
     "output_type": "execute_result"
    }
   ],
   "source": [
    "book_exp=book_exp.drop(['ts'], 1)\n",
    "book_exp['seen']=1\n",
    "book_exp.head()"
   ]
  },
  {
   "cell_type": "code",
   "execution_count": 18,
   "metadata": {},
   "outputs": [],
   "source": [
    "book_exp1=pd.merge(bookmarks, book_exp, how='left', on=['element_uid', 'user_uid'])"
   ]
  },
  {
   "cell_type": "code",
   "execution_count": 20,
   "metadata": {},
   "outputs": [],
   "source": [
    "book_exp1=book_exp1.fillna(0)"
   ]
  },
  {
   "cell_type": "code",
   "execution_count": 22,
   "metadata": {},
   "outputs": [
    {
     "data": {
      "text/plain": [
       "Counter({0.0: 683494, 1.0: 264722})"
      ]
     },
     "execution_count": 22,
     "metadata": {},
     "output_type": "execute_result"
    }
   ],
   "source": [
    "Counter(book_exp1.seen)"
   ]
  },
  {
   "cell_type": "code",
   "execution_count": 24,
   "metadata": {},
   "outputs": [],
   "source": [
    "book_exp2=book_exp1[book_exp1.seen == 0.0]"
   ]
  },
  {
   "cell_type": "code",
   "execution_count": 27,
   "metadata": {},
   "outputs": [],
   "source": [
    "book_exp2=book_exp2.drop(['ts', 'seen'], 1)\n"
   ]
  },
  {
   "cell_type": "code",
   "execution_count": 28,
   "metadata": {},
   "outputs": [],
   "source": [
    "book_exp3=book_exp2\n",
    "book_exp3['rating']=8.0"
   ]
  },
  {
   "cell_type": "code",
   "execution_count": 29,
   "metadata": {},
   "outputs": [
    {
     "name": "stdout",
     "output_type": "stream",
     "text": [
      "<class 'pandas.core.frame.DataFrame'>\n",
      "Int64Index: 683494 entries, 0 to 948215\n",
      "Data columns (total 3 columns):\n",
      "user_uid       683494 non-null uint32\n",
      "element_uid    683494 non-null uint16\n",
      "rating         683494 non-null float64\n",
      "dtypes: float64(1), uint16(1), uint32(1)\n",
      "memory usage: 14.3 MB\n"
     ]
    }
   ],
   "source": [
    "book_exp3.info()"
   ]
  },
  {
   "cell_type": "code",
   "execution_count": 30,
   "metadata": {},
   "outputs": [],
   "source": [
    "book_exp3.to_csv(os.path.join(DATA_PATH, 'book_exp3.csv'))"
   ]
  },
  {
   "cell_type": "code",
   "execution_count": 34,
   "metadata": {},
   "outputs": [
    {
     "data": {
      "text/plain": [
       "10200"
      ]
     },
     "execution_count": 34,
     "metadata": {},
     "output_type": "execute_result"
    }
   ],
   "source": [
    "len(pd.unique(catal.index))"
   ]
  },
  {
   "cell_type": "code",
   "execution_count": 40,
   "metadata": {},
   "outputs": [],
   "source": [
    "catal['element_uid']=catal.index"
   ]
  },
  {
   "cell_type": "code",
   "execution_count": 42,
   "metadata": {},
   "outputs": [
    {
     "data": {
      "text/html": [
       "<div>\n",
       "<style scoped>\n",
       "    .dataframe tbody tr th:only-of-type {\n",
       "        vertical-align: middle;\n",
       "    }\n",
       "\n",
       "    .dataframe tbody tr th {\n",
       "        vertical-align: top;\n",
       "    }\n",
       "\n",
       "    .dataframe thead th {\n",
       "        text-align: right;\n",
       "    }\n",
       "</style>\n",
       "<table border=\"1\" class=\"dataframe\">\n",
       "  <thead>\n",
       "    <tr style=\"text-align: right;\">\n",
       "      <th></th>\n",
       "      <th>attributes</th>\n",
       "      <th>availability</th>\n",
       "      <th>duration</th>\n",
       "      <th>feature_1</th>\n",
       "      <th>feature_2</th>\n",
       "      <th>feature_3</th>\n",
       "      <th>feature_4</th>\n",
       "      <th>feature_5</th>\n",
       "      <th>type</th>\n",
       "      <th>element_uid</th>\n",
       "    </tr>\n",
       "  </thead>\n",
       "  <tbody>\n",
       "    <tr>\n",
       "      <th>0</th>\n",
       "      <td>[31115, 6713, 10906, 31116, 31117, 270, 24431,...</td>\n",
       "      <td>[]</td>\n",
       "      <td>80</td>\n",
       "      <td>2.912198e+07</td>\n",
       "      <td>0.575260</td>\n",
       "      <td>0</td>\n",
       "      <td>1.128332</td>\n",
       "      <td>0.654707</td>\n",
       "      <td>movie</td>\n",
       "      <td>0</td>\n",
       "    </tr>\n",
       "    <tr>\n",
       "      <th>1</th>\n",
       "      <td>[2786, 385, 2799, 3730, 886, 7, 11700, 42, 20,...</td>\n",
       "      <td>[purchase, rent]</td>\n",
       "      <td>120</td>\n",
       "      <td>6.610431e+06</td>\n",
       "      <td>0.773224</td>\n",
       "      <td>3</td>\n",
       "      <td>1.112014</td>\n",
       "      <td>0.654707</td>\n",
       "      <td>movie</td>\n",
       "      <td>1</td>\n",
       "    </tr>\n",
       "    <tr>\n",
       "      <th>10</th>\n",
       "      <td>[10511, 2752, 9076, 1373, 472, 7, 10512, 42, 4...</td>\n",
       "      <td>[]</td>\n",
       "      <td>100</td>\n",
       "      <td>1.666610e+07</td>\n",
       "      <td>0.700997</td>\n",
       "      <td>0</td>\n",
       "      <td>1.130076</td>\n",
       "      <td>0.654707</td>\n",
       "      <td>movie</td>\n",
       "      <td>10</td>\n",
       "    </tr>\n",
       "    <tr>\n",
       "      <th>100</th>\n",
       "      <td>[18441, 16300, 16580, 18770, 18771, 18643, 396...</td>\n",
       "      <td>[purchase, rent]</td>\n",
       "      <td>80</td>\n",
       "      <td>6.064739e+06</td>\n",
       "      <td>0.752751</td>\n",
       "      <td>4</td>\n",
       "      <td>0.953710</td>\n",
       "      <td>0.000000</td>\n",
       "      <td>movie</td>\n",
       "      <td>100</td>\n",
       "    </tr>\n",
       "    <tr>\n",
       "      <th>1000</th>\n",
       "      <td>[1256, 441, 19806, 15224, 16708, 83, 336, 1980...</td>\n",
       "      <td>[]</td>\n",
       "      <td>80</td>\n",
       "      <td>9.115019e+06</td>\n",
       "      <td>0.689883</td>\n",
       "      <td>0</td>\n",
       "      <td>1.128332</td>\n",
       "      <td>0.680410</td>\n",
       "      <td>movie</td>\n",
       "      <td>1000</td>\n",
       "    </tr>\n",
       "  </tbody>\n",
       "</table>\n",
       "</div>"
      ],
      "text/plain": [
       "                                             attributes      availability  \\\n",
       "0     [31115, 6713, 10906, 31116, 31117, 270, 24431,...                []   \n",
       "1     [2786, 385, 2799, 3730, 886, 7, 11700, 42, 20,...  [purchase, rent]   \n",
       "10    [10511, 2752, 9076, 1373, 472, 7, 10512, 42, 4...                []   \n",
       "100   [18441, 16300, 16580, 18770, 18771, 18643, 396...  [purchase, rent]   \n",
       "1000  [1256, 441, 19806, 15224, 16708, 83, 336, 1980...                []   \n",
       "\n",
       "      duration     feature_1  feature_2  feature_3  feature_4  feature_5  \\\n",
       "0           80  2.912198e+07   0.575260          0   1.128332   0.654707   \n",
       "1          120  6.610431e+06   0.773224          3   1.112014   0.654707   \n",
       "10         100  1.666610e+07   0.700997          0   1.130076   0.654707   \n",
       "100         80  6.064739e+06   0.752751          4   0.953710   0.000000   \n",
       "1000        80  9.115019e+06   0.689883          0   1.128332   0.680410   \n",
       "\n",
       "       type  element_uid  \n",
       "0     movie            0  \n",
       "1     movie            1  \n",
       "10    movie           10  \n",
       "100   movie          100  \n",
       "1000  movie         1000  "
      ]
     },
     "execution_count": 42,
     "metadata": {},
     "output_type": "execute_result"
    }
   ],
   "source": [
    "catal.head()"
   ]
  },
  {
   "cell_type": "code",
   "execution_count": 44,
   "metadata": {},
   "outputs": [
    {
     "data": {
      "text/html": [
       "<div>\n",
       "<style scoped>\n",
       "    .dataframe tbody tr th:only-of-type {\n",
       "        vertical-align: middle;\n",
       "    }\n",
       "\n",
       "    .dataframe tbody tr th {\n",
       "        vertical-align: top;\n",
       "    }\n",
       "\n",
       "    .dataframe thead th {\n",
       "        text-align: right;\n",
       "    }\n",
       "</style>\n",
       "<table border=\"1\" class=\"dataframe\">\n",
       "  <thead>\n",
       "    <tr style=\"text-align: right;\">\n",
       "      <th></th>\n",
       "      <th>element_uid</th>\n",
       "      <th>user_uid</th>\n",
       "      <th>consumption_mode</th>\n",
       "      <th>ts</th>\n",
       "      <th>watched_time</th>\n",
       "      <th>device_type</th>\n",
       "      <th>device_manufacturer</th>\n",
       "    </tr>\n",
       "  </thead>\n",
       "  <tbody>\n",
       "    <tr>\n",
       "      <th>0</th>\n",
       "      <td>3336</td>\n",
       "      <td>5177</td>\n",
       "      <td>S</td>\n",
       "      <td>4.430518e+07</td>\n",
       "      <td>4282</td>\n",
       "      <td>0</td>\n",
       "      <td>50</td>\n",
       "    </tr>\n",
       "    <tr>\n",
       "      <th>1</th>\n",
       "      <td>481</td>\n",
       "      <td>593316</td>\n",
       "      <td>S</td>\n",
       "      <td>4.430518e+07</td>\n",
       "      <td>2989</td>\n",
       "      <td>0</td>\n",
       "      <td>11</td>\n",
       "    </tr>\n",
       "    <tr>\n",
       "      <th>2</th>\n",
       "      <td>4128</td>\n",
       "      <td>262355</td>\n",
       "      <td>S</td>\n",
       "      <td>4.430518e+07</td>\n",
       "      <td>833</td>\n",
       "      <td>0</td>\n",
       "      <td>50</td>\n",
       "    </tr>\n",
       "    <tr>\n",
       "      <th>3</th>\n",
       "      <td>6272</td>\n",
       "      <td>74296</td>\n",
       "      <td>S</td>\n",
       "      <td>4.430518e+07</td>\n",
       "      <td>2530</td>\n",
       "      <td>0</td>\n",
       "      <td>99</td>\n",
       "    </tr>\n",
       "    <tr>\n",
       "      <th>4</th>\n",
       "      <td>5543</td>\n",
       "      <td>340623</td>\n",
       "      <td>P</td>\n",
       "      <td>4.430518e+07</td>\n",
       "      <td>6282</td>\n",
       "      <td>0</td>\n",
       "      <td>50</td>\n",
       "    </tr>\n",
       "  </tbody>\n",
       "</table>\n",
       "</div>"
      ],
      "text/plain": [
       "   element_uid  user_uid consumption_mode            ts  watched_time  \\\n",
       "0         3336      5177                S  4.430518e+07          4282   \n",
       "1          481    593316                S  4.430518e+07          2989   \n",
       "2         4128    262355                S  4.430518e+07           833   \n",
       "3         6272     74296                S  4.430518e+07          2530   \n",
       "4         5543    340623                P  4.430518e+07          6282   \n",
       "\n",
       "   device_type  device_manufacturer  \n",
       "0            0                   50  \n",
       "1            0                   11  \n",
       "2            0                   50  \n",
       "3            0                   99  \n",
       "4            0                   50  "
      ]
     },
     "execution_count": 44,
     "metadata": {},
     "output_type": "execute_result"
    }
   ],
   "source": [
    "transactions.head()"
   ]
  },
  {
   "cell_type": "code",
   "execution_count": 43,
   "metadata": {},
   "outputs": [],
   "source": [
    "timetr=pd.merge(transactions, catal, on=['element_uid'])"
   ]
  },
  {
   "cell_type": "code",
   "execution_count": 45,
   "metadata": {},
   "outputs": [],
   "source": [
    "timetr=timetr.drop(['consumption_mode', 'watched_time', 'watched_time', 'device_manufacturer', 'feature_2', 'feature_3','feature_4', 'feature_5', 'duration', 'attributes', 'availability'],1 )"
   ]
  },
  {
   "cell_type": "code",
   "execution_count": 47,
   "metadata": {},
   "outputs": [],
   "source": [
    "timetr.head()\n",
    "timetr=timetr.drop(['device_type','type'], 1)\n",
    "timetr['ts-f1']=timetr['ts']-timetr['feature_1']"
   ]
  },
  {
   "cell_type": "code",
   "execution_count": 67,
   "metadata": {},
   "outputs": [
    {
     "data": {
      "image/png": "[encoded data removed]",
      "text/plain": [
       "<Figure size 864x576 with 1 Axes>"
      ]
     },
     "metadata": {
      "needs_background": "light"
     },
     "output_type": "display_data"
    }
   ],
   "source": [
    "import matplotlib.pyplot as plt\n",
    "\n",
    "plt.figure(figsize=(12, 8))\n",
    "\n",
    "#plt.hist(catal['feature_3'][catal['type']== 'movie'], 40, color='blue')\n",
    "\n",
    "plt.hist(timetr['ts-f1'], 80)\n",
    "\n",
    "plt.grid()\n",
    "plt.show()"
   ]
  },
  {
   "cell_type": "code",
   "execution_count": 69,
   "metadata": {},
   "outputs": [],
   "source": [
    "timetr['ts-f1']=timetr['ts-f1']*(60*24*17)\n"
   ]
  },
  {
   "cell_type": "code",
   "execution_count": 71,
   "metadata": {},
   "outputs": [],
   "source": [
    "timetr['minus']=timetr['ts-f1'].map(lambda x: 1 if x<0 else 0)\n"
   ]
  },
  {
   "cell_type": "code",
   "execution_count": 79,
   "metadata": {},
   "outputs": [
    {
     "data": {
      "text/plain": [
       "array([ 5951, 10108,  8420,  5500,  7537,  1565,  6762,  2910,  7106,\n",
       "        8660,  3782,  3302,   913,  7999,  6866,   430,  2824,  2997,\n",
       "        2741,  2127,  5724,  1964,  8621,  4243,  6510,  9107,  8594,\n",
       "        2699,  7993,  4473,  3774,  5822,  8823,  4005,  7222,  6718,\n",
       "        3473,  4826,   585,  2136], dtype=uint64)"
      ]
     },
     "execution_count": 79,
     "metadata": {},
     "output_type": "execute_result"
    }
   ],
   "source": [
    "pd.unique(timetr[timetr.minus == 1].element_uid)"
   ]
  },
  {
   "cell_type": "code",
   "execution_count": 76,
   "metadata": {},
   "outputs": [
    {
     "data": {
      "text/plain": [
       "9643012"
      ]
     },
     "execution_count": 76,
     "metadata": {},
     "output_type": "execute_result"
    }
   ],
   "source": [
    "len(timetr.minus)"
   ]
  },
  {
   "cell_type": "code",
   "execution_count": 75,
   "metadata": {},
   "outputs": [
    {
     "data": {
      "text/plain": [
       "-84.80223585115563"
      ]
     },
     "execution_count": 75,
     "metadata": {},
     "output_type": "execute_result"
    }
   ],
   "source": [
    "min(timetr['ts-f1'])"
   ]
  },
  {
   "cell_type": "code",
   "execution_count": 55,
   "metadata": {},
   "outputs": [
    {
     "data": {
      "image/png": "[encoded data removed]",
      "text/plain": [
       "<Figure size 864x576 with 1 Axes>"
      ]
     },
     "metadata": {
      "needs_background": "light"
     },
     "output_type": "display_data"
    }
   ],
   "source": [
    "import matplotlib.pyplot as plt\n",
    "\n",
    "plt.figure(figsize=(12, 8))\n",
    "\n",
    "#plt.hist(catal['feature_3'][catal['type']== 'movie'], 40, color='blue')\n",
    "\n",
    "plt.hist(catal['feature_1'], 80)\n",
    "\n",
    "plt.grid()\n",
    "plt.show()"
   ]
  },
  {
   "cell_type": "code",
   "execution_count": 92,
   "metadata": {},
   "outputs": [],
   "source": [
    "timetr.to_csv(os.path.join(DATA_PATH, 'timetr.csv'))"
   ]
  },
  {
   "cell_type": "code",
   "execution_count": 81,
   "metadata": {},
   "outputs": [
    {
     "data": {
      "text/plain": [
       "array([ 5951, 10108,  8420,  5500,  7537,  1565,  6762,  2910,  7106,\n",
       "        8660,  3782,  3302,   913,  7999,  6866,   430,  2824,  2997,\n",
       "        2741,  2127,  5724,  1964,  8621,  4243,  6510,  9107,  8594,\n",
       "        2699,  7993,  4473,  3774,  5822,  8823,  4005,  7222,  6718,\n",
       "        3473,  4826,   585,  2136], dtype=uint64)"
      ]
     },
     "execution_count": 81,
     "metadata": {},
     "output_type": "execute_result"
    }
   ],
   "source": [
    "pd.unique(timetr[timetr.minus == 1].element_uid)   #ЭТО СЕРИАЛЫ, в которых выходят новые сезоны. \n",
    "#Если пользователь смотрел предыдущий сезон, может посоветовать ему новый?"
   ]
  },
  {
   "cell_type": "code",
   "execution_count": 93,
   "metadata": {},
   "outputs": [
    {
     "data": {
      "text/html": [
       "<div>\n",
       "<style scoped>\n",
       "    .dataframe tbody tr th:only-of-type {\n",
       "        vertical-align: middle;\n",
       "    }\n",
       "\n",
       "    .dataframe tbody tr th {\n",
       "        vertical-align: top;\n",
       "    }\n",
       "\n",
       "    .dataframe thead th {\n",
       "        text-align: right;\n",
       "    }\n",
       "</style>\n",
       "<table border=\"1\" class=\"dataframe\">\n",
       "  <thead>\n",
       "    <tr style=\"text-align: right;\">\n",
       "      <th></th>\n",
       "      <th>Unnamed: 0</th>\n",
       "      <th>Unnamed: 0.1</th>\n",
       "      <th>element_uid</th>\n",
       "      <th>user_uid</th>\n",
       "      <th>watched_time</th>\n",
       "      <th>rating</th>\n",
       "      <th>duration</th>\n",
       "      <th>feature_1</th>\n",
       "      <th>feature_2</th>\n",
       "      <th>feature_3</th>\n",
       "      <th>...</th>\n",
       "      <th>feature_5_-1</th>\n",
       "      <th>feature_5_44</th>\n",
       "      <th>smallf3</th>\n",
       "      <th>middlef3</th>\n",
       "      <th>bigf3</th>\n",
       "      <th>type_m</th>\n",
       "      <th>type_s</th>\n",
       "      <th>type_mm</th>\n",
       "      <th>longfilm</th>\n",
       "      <th>shortfilm</th>\n",
       "    </tr>\n",
       "  </thead>\n",
       "  <tbody>\n",
       "    <tr>\n",
       "      <th>0</th>\n",
       "      <td>0</td>\n",
       "      <td>0</td>\n",
       "      <td>3336</td>\n",
       "      <td>5177</td>\n",
       "      <td>0.792963</td>\n",
       "      <td>9.0</td>\n",
       "      <td>90</td>\n",
       "      <td>4.166108e+07</td>\n",
       "      <td>0.739609</td>\n",
       "      <td>45</td>\n",
       "      <td>...</td>\n",
       "      <td>0</td>\n",
       "      <td>0</td>\n",
       "      <td>0</td>\n",
       "      <td>0</td>\n",
       "      <td>1</td>\n",
       "      <td>1</td>\n",
       "      <td>0</td>\n",
       "      <td>0</td>\n",
       "      <td>0</td>\n",
       "      <td>0</td>\n",
       "    </tr>\n",
       "    <tr>\n",
       "      <th>1</th>\n",
       "      <td>1</td>\n",
       "      <td>1</td>\n",
       "      <td>3336</td>\n",
       "      <td>349202</td>\n",
       "      <td>0.609444</td>\n",
       "      <td>NaN</td>\n",
       "      <td>90</td>\n",
       "      <td>4.166108e+07</td>\n",
       "      <td>0.739609</td>\n",
       "      <td>45</td>\n",
       "      <td>...</td>\n",
       "      <td>0</td>\n",
       "      <td>0</td>\n",
       "      <td>0</td>\n",
       "      <td>0</td>\n",
       "      <td>1</td>\n",
       "      <td>1</td>\n",
       "      <td>0</td>\n",
       "      <td>0</td>\n",
       "      <td>0</td>\n",
       "      <td>0</td>\n",
       "    </tr>\n",
       "    <tr>\n",
       "      <th>2</th>\n",
       "      <td>2</td>\n",
       "      <td>2</td>\n",
       "      <td>3336</td>\n",
       "      <td>117582</td>\n",
       "      <td>1.060556</td>\n",
       "      <td>NaN</td>\n",
       "      <td>90</td>\n",
       "      <td>4.166108e+07</td>\n",
       "      <td>0.739609</td>\n",
       "      <td>45</td>\n",
       "      <td>...</td>\n",
       "      <td>0</td>\n",
       "      <td>0</td>\n",
       "      <td>0</td>\n",
       "      <td>0</td>\n",
       "      <td>1</td>\n",
       "      <td>1</td>\n",
       "      <td>0</td>\n",
       "      <td>0</td>\n",
       "      <td>0</td>\n",
       "      <td>0</td>\n",
       "    </tr>\n",
       "    <tr>\n",
       "      <th>3</th>\n",
       "      <td>3</td>\n",
       "      <td>3</td>\n",
       "      <td>3336</td>\n",
       "      <td>523833</td>\n",
       "      <td>0.804815</td>\n",
       "      <td>NaN</td>\n",
       "      <td>90</td>\n",
       "      <td>4.166108e+07</td>\n",
       "      <td>0.739609</td>\n",
       "      <td>45</td>\n",
       "      <td>...</td>\n",
       "      <td>0</td>\n",
       "      <td>0</td>\n",
       "      <td>0</td>\n",
       "      <td>0</td>\n",
       "      <td>1</td>\n",
       "      <td>1</td>\n",
       "      <td>0</td>\n",
       "      <td>0</td>\n",
       "      <td>0</td>\n",
       "      <td>0</td>\n",
       "    </tr>\n",
       "    <tr>\n",
       "      <th>4</th>\n",
       "      <td>4</td>\n",
       "      <td>4</td>\n",
       "      <td>3336</td>\n",
       "      <td>571064</td>\n",
       "      <td>0.845926</td>\n",
       "      <td>NaN</td>\n",
       "      <td>90</td>\n",
       "      <td>4.166108e+07</td>\n",
       "      <td>0.739609</td>\n",
       "      <td>45</td>\n",
       "      <td>...</td>\n",
       "      <td>0</td>\n",
       "      <td>0</td>\n",
       "      <td>0</td>\n",
       "      <td>0</td>\n",
       "      <td>1</td>\n",
       "      <td>1</td>\n",
       "      <td>0</td>\n",
       "      <td>0</td>\n",
       "      <td>0</td>\n",
       "      <td>0</td>\n",
       "    </tr>\n",
       "  </tbody>\n",
       "</table>\n",
       "<p>5 rows × 30 columns</p>\n",
       "</div>"
      ],
      "text/plain": [
       "   Unnamed: 0  Unnamed: 0.1  element_uid  user_uid  watched_time  rating  \\\n",
       "0           0             0         3336      5177      0.792963     9.0   \n",
       "1           1             1         3336    349202      0.609444     NaN   \n",
       "2           2             2         3336    117582      1.060556     NaN   \n",
       "3           3             3         3336    523833      0.804815     NaN   \n",
       "4           4             4         3336    571064      0.845926     NaN   \n",
       "\n",
       "   duration     feature_1  feature_2  feature_3    ...      feature_5_-1  \\\n",
       "0        90  4.166108e+07   0.739609         45    ...                 0   \n",
       "1        90  4.166108e+07   0.739609         45    ...                 0   \n",
       "2        90  4.166108e+07   0.739609         45    ...                 0   \n",
       "3        90  4.166108e+07   0.739609         45    ...                 0   \n",
       "4        90  4.166108e+07   0.739609         45    ...                 0   \n",
       "\n",
       "   feature_5_44  smallf3  middlef3  bigf3  type_m  type_s  type_mm  longfilm  \\\n",
       "0             0        0         0      1       1       0        0         0   \n",
       "1             0        0         0      1       1       0        0         0   \n",
       "2             0        0         0      1       1       0        0         0   \n",
       "3             0        0         0      1       1       0        0         0   \n",
       "4             0        0         0      1       1       0        0         0   \n",
       "\n",
       "   shortfilm  \n",
       "0          0  \n",
       "1          0  \n",
       "2          0  \n",
       "3          0  \n",
       "4          0  \n",
       "\n",
       "[5 rows x 30 columns]"
      ]
     },
     "execution_count": 93,
     "metadata": {},
     "output_type": "execute_result"
    }
   ],
   "source": [
    "transactions_exp.head()"
   ]
  },
  {
   "cell_type": "code",
   "execution_count": 2,
   "metadata": {},
   "outputs": [],
   "source": [
    "transactions_exp1=transactions_exp\n",
    "transactions_exp1['worst']=transactions_exp1.watched_time.map(lambda x:1 if x < 0.2 else 0)\n",
    "transactions_exp1['watched']=transactions_exp1.watched_time.map(lambda x: 0 if x < 0.51 else 1)"
   ]
  },
  {
   "cell_type": "code",
   "execution_count": 43,
   "metadata": {},
   "outputs": [],
   "source": [
    "transactions_exp1=transactions_exp"
   ]
  },
  {
   "cell_type": "code",
   "execution_count": 5,
   "metadata": {},
   "outputs": [
    {
     "data": {
      "text/plain": [
       "Counter({0: 7304967, 1: 2338045})"
      ]
     },
     "execution_count": 5,
     "metadata": {},
     "output_type": "execute_result"
    }
   ],
   "source": [
    "Counter(transactions_exp1.worst)"
   ]
  },
  {
   "cell_type": "code",
   "execution_count": 16,
   "metadata": {},
   "outputs": [],
   "source": [
    "transactions_exp1[transactions_exp1.worst == 1]=transactions_exp1[transactions_exp1.worst == 1].fillna(2.0)"
   ]
  },
  {
   "cell_type": "code",
   "execution_count": 5,
   "metadata": {},
   "outputs": [
    {
     "data": {
      "image/png": "[encoded data removed]",
      "text/plain": [
       "<Figure size 864x576 with 1 Axes>"
      ]
     },
     "metadata": {
      "needs_background": "light"
     },
     "output_type": "display_data"
    }
   ],
   "source": [
    "from matplotlib import pyplot as plt\n",
    "import seaborn as sns\n",
    "import mglearn\n",
    "%matplotlib inline\n",
    "from IPython.display import display\n",
    "trtr=transactions_exp1[transactions_exp1.worst == 1]\n",
    "\n",
    "plt.figure(figsize=(12, 8))\n",
    "\n",
    "plt.hist(trtr['watched_time'], 40, color='blue')\n",
    "\n",
    "\n",
    "plt.grid()\n",
    "plt.show()"
   ]
  },
  {
   "cell_type": "code",
   "execution_count": 8,
   "metadata": {},
   "outputs": [
    {
     "name": "stderr",
     "output_type": "stream",
     "text": [
      "D:\\Anaconda3\\lib\\site-packages\\numpy\\lib\\histograms.py:754: RuntimeWarning: invalid value encountered in greater_equal\n",
      "  keep = (tmp_a >= first_edge)\n",
      "D:\\Anaconda3\\lib\\site-packages\\numpy\\lib\\histograms.py:755: RuntimeWarning: invalid value encountered in less_equal\n",
      "  keep &= (tmp_a <= last_edge)\n"
     ]
    },
    {
     "data": {
      "image/png": "[encoded data removed]",
      "text/plain": [
       "<Figure size 864x576 with 1 Axes>"
      ]
     },
     "metadata": {
      "needs_background": "light"
     },
     "output_type": "display_data"
    }
   ],
   "source": [
    "plt.figure(figsize=(12, 8))\n",
    "\n",
    "plt.hist(trtr['rating'], 40, color='blue')\n",
    "\n",
    "\n",
    "plt.grid()\n",
    "plt.show()"
   ]
  },
  {
   "cell_type": "code",
   "execution_count": 7,
   "metadata": {},
   "outputs": [
    {
     "data": {
      "text/plain": [
       "<matplotlib.collections.PathCollection at 0xae780b8>"
      ]
     },
     "execution_count": 7,
     "metadata": {},
     "output_type": "execute_result"
    },
    {
     "data": {
      "image/png": "[encoded data removed]",
      "text/plain": [
       "<Figure size 432x288 with 1 Axes>"
      ]
     },
     "metadata": {
      "needs_background": "light"
     },
     "output_type": "display_data"
    }
   ],
   "source": [
    "plt.scatter(trtr['watched_time'],\n",
    "            trtr['rating'])"
   ]
  },
  {
   "cell_type": "code",
   "execution_count": 29,
   "metadata": {},
   "outputs": [],
   "source": [
    "transactions_exp2=transactions_exp\n",
    "transactions_exp2['worst']=transactions_exp1.watched_time.map(lambda x:1 if x == 0.05 else 0)\n"
   ]
  },
  {
   "cell_type": "code",
   "execution_count": 18,
   "metadata": {},
   "outputs": [
    {
     "data": {
      "image/png": "[encoded data removed]",
      "text/plain": [
       "<Figure size 864x576 with 1 Axes>"
      ]
     },
     "metadata": {
      "needs_background": "light"
     },
     "output_type": "display_data"
    }
   ],
   "source": [
    "\n",
    "trtr2=transactions_exp2[transactions_exp2.worst == 1]\n",
    "plt.figure(figsize=(12, 8))\n",
    "\n",
    "plt.hist(trtr2['watched_time'], 40, color='blue')\n",
    "\n",
    "\n",
    "plt.grid()\n",
    "plt.show()"
   ]
  },
  {
   "cell_type": "code",
   "execution_count": 22,
   "metadata": {},
   "outputs": [
    {
     "data": {
      "image/png": "[encoded data removed]",
      "text/plain": [
       "<Figure size 864x576 with 1 Axes>"
      ]
     },
     "metadata": {
      "needs_background": "light"
     },
     "output_type": "display_data"
    }
   ],
   "source": [
    "plt.figure(figsize=(12, 8))\n",
    "\n",
    "plt.hist(trtr2['rating'], 40, color='blue')\n",
    "\n",
    "\n",
    "plt.grid()\n",
    "plt.show()"
   ]
  },
  {
   "cell_type": "code",
   "execution_count": 30,
   "metadata": {},
   "outputs": [
    {
     "name": "stdout",
     "output_type": "stream",
     "text": [
      "<class 'pandas.core.frame.DataFrame'>\n",
      "Int64Index: 235856 entries, 73 to 9642989\n",
      "Data columns (total 32 columns):\n",
      "Unnamed: 0      235856 non-null int64\n",
      "Unnamed: 0.1    235856 non-null int64\n",
      "element_uid     235856 non-null int64\n",
      "user_uid        235856 non-null int64\n",
      "watched_time    235856 non-null float64\n",
      "rating          1406 non-null float64\n",
      "duration        235856 non-null int64\n",
      "feature_1       235856 non-null float64\n",
      "feature_2       235856 non-null float64\n",
      "feature_3       235856 non-null int64\n",
      "feature_4       235856 non-null float64\n",
      "quantity        235856 non-null int64\n",
      "rating_mean     233313 non-null float64\n",
      "CM_S            235856 non-null int64\n",
      "CM_P            235856 non-null int64\n",
      "CM_R            235856 non-null int64\n",
      "feature_5_65    235856 non-null int64\n",
      "feature_5_00    235856 non-null int64\n",
      "feature_5_68    235856 non-null int64\n",
      "feature_5_59    235856 non-null int64\n",
      "feature_5_-1    235856 non-null int64\n",
      "feature_5_44    235856 non-null int64\n",
      "smallf3         235856 non-null int64\n",
      "middlef3        235856 non-null int64\n",
      "bigf3           235856 non-null int64\n",
      "type_m          235856 non-null int64\n",
      "type_s          235856 non-null int64\n",
      "type_mm         235856 non-null int64\n",
      "longfilm        235856 non-null int64\n",
      "shortfilm       235856 non-null int64\n",
      "worst           235856 non-null int64\n",
      "watched         235856 non-null int64\n",
      "dtypes: float64(6), int64(26)\n",
      "memory usage: 59.4 MB\n"
     ]
    }
   ],
   "source": [
    "trtr2.info()"
   ]
  },
  {
   "cell_type": "code",
   "execution_count": 28,
   "metadata": {},
   "outputs": [
    {
     "data": {
      "text/plain": [
       "Unnamed: 0      0.000000\n",
       "Unnamed: 0.1    0.000000\n",
       "element_uid     0.000000\n",
       "user_uid        0.000000\n",
       "watched_time    0.000000\n",
       "rating          0.994039\n",
       "duration        0.000000\n",
       "feature_1       0.000000\n",
       "feature_2       0.000000\n",
       "feature_3       0.000000\n",
       "feature_4       0.000000\n",
       "quantity        0.000000\n",
       "rating_mean     0.010782\n",
       "CM_S            0.000000\n",
       "CM_P            0.000000\n",
       "CM_R            0.000000\n",
       "feature_5_65    0.000000\n",
       "feature_5_00    0.000000\n",
       "feature_5_68    0.000000\n",
       "feature_5_59    0.000000\n",
       "feature_5_-1    0.000000\n",
       "feature_5_44    0.000000\n",
       "smallf3         0.000000\n",
       "middlef3        0.000000\n",
       "bigf3           0.000000\n",
       "type_m          0.000000\n",
       "type_s          0.000000\n",
       "type_mm         0.000000\n",
       "longfilm        0.000000\n",
       "shortfilm       0.000000\n",
       "worst           0.000000\n",
       "watched         0.000000\n",
       "dtype: float64"
      ]
     },
     "execution_count": 28,
     "metadata": {},
     "output_type": "execute_result"
    }
   ],
   "source": [
    "(trtr2.isnull().sum()/trtr2.shape[0])"
   ]
  },
  {
   "cell_type": "code",
   "execution_count": null,
   "metadata": {},
   "outputs": [],
   "source": []
  },
  {
   "cell_type": "code",
   "execution_count": null,
   "metadata": {},
   "outputs": [],
   "source": []
  },
  {
   "cell_type": "code",
   "execution_count": null,
   "metadata": {},
   "outputs": [],
   "source": []
  },
  {
   "cell_type": "code",
   "execution_count": null,
   "metadata": {},
   "outputs": [],
   "source": []
  },
  {
   "cell_type": "code",
   "execution_count": 17,
   "metadata": {},
   "outputs": [
    {
     "data": {
      "image/png": "[encoded data removed]",
      "text/plain": [
       "<Figure size 432x288 with 1 Axes>"
      ]
     },
     "metadata": {
      "needs_background": "light"
     },
     "output_type": "display_data"
    }
   ],
   "source": [
    "from matplotlib import pyplot as plt\n",
    "import seaborn as sns\n",
    "import mglearn\n",
    "%matplotlib inline\n",
    "from IPython.display import display\n",
    "(transactions_exp1.isnull().sum()/transactions_exp1.shape[0]).plot(kind='bar');"
   ]
  },
  {
   "cell_type": "code",
   "execution_count": 19,
   "metadata": {},
   "outputs": [],
   "source": [
    "transactions_exp1=transactions_exp1.drop(['worst'],1)"
   ]
  },
  {
   "cell_type": "code",
   "execution_count": 20,
   "metadata": {},
   "outputs": [],
   "source": [
    "transactions_exp1.to_csv(os.path.join(DATA_PATH, 'transactions_exp1.csv'))"
   ]
  },
  {
   "cell_type": "code",
   "execution_count": 31,
   "metadata": {},
   "outputs": [
    {
     "name": "stdout",
     "output_type": "stream",
     "text": [
      "<class 'pandas.core.frame.DataFrame'>\n",
      "RangeIndex: 9643012 entries, 0 to 9643011\n",
      "Data columns (total 32 columns):\n",
      "Unnamed: 0      int64\n",
      "Unnamed: 0.1    int64\n",
      "element_uid     int64\n",
      "user_uid        int64\n",
      "watched_time    float64\n",
      "rating          float64\n",
      "duration        int64\n",
      "feature_1       float64\n",
      "feature_2       float64\n",
      "feature_3       int64\n",
      "feature_4       float64\n",
      "quantity        int64\n",
      "rating_mean     float64\n",
      "CM_S            int64\n",
      "CM_P            int64\n",
      "CM_R            int64\n",
      "feature_5_65    int64\n",
      "feature_5_00    int64\n",
      "feature_5_68    int64\n",
      "feature_5_59    int64\n",
      "feature_5_-1    int64\n",
      "feature_5_44    int64\n",
      "smallf3         int64\n",
      "middlef3        int64\n",
      "bigf3           int64\n",
      "type_m          int64\n",
      "type_s          int64\n",
      "type_mm         int64\n",
      "longfilm        int64\n",
      "shortfilm       int64\n",
      "worst           int64\n",
      "watched         int64\n",
      "dtypes: float64(6), int64(26)\n",
      "memory usage: 2.3 GB\n"
     ]
    }
   ],
   "source": [
    "transactions_exp.info()"
   ]
  },
  {
   "cell_type": "code",
   "execution_count": 59,
   "metadata": {},
   "outputs": [],
   "source": [
    "del transactions_exp\n",
    "transactions_exp = pd.read_csv(\n",
    "    os.path.join(DATA_PATH, 'transactions_exp.csv'),\n",
    "    \n",
    ")"
   ]
  },
  {
   "cell_type": "code",
   "execution_count": 60,
   "metadata": {},
   "outputs": [],
   "source": [
    "transactions_exp1=transactions_exp\n",
    "transactions_exp1['5%']=transactions_exp1.watched_time.map(lambda x:1 if x < 0.051 and x >0.005 else 0)\n",
    "transactions_exp1['10%']=transactions_exp1.watched_time.map(lambda x:1 if x < 0.101 and x >0.05 else 0)\n",
    "transactions_exp1['15%']=transactions_exp1.watched_time.map(lambda x:1 if x < 0.151 and x >0.10 else 0)\n",
    "transactions_exp1['20%']=transactions_exp1.watched_time.map(lambda x:1 if x < 0.201 and x >0.15 else 0)\n",
    "transactions_exp1['watched']=transactions_exp1.watched_time.map(lambda x: 0 if x < 0.51 else 1)\n",
    "\n",
    "transactions_exp2=transactions_exp\n",
    "transactions_exp2['worst']=transactions_exp2.watched_time.map(lambda x:1 if x < 0.2 and x >0.005 else 0)\n",
    "transactions_exp2[transactions_exp2.worst == 1]=transactions_exp2[transactions_exp2.worst == 1].fillna(2.0)\n",
    "transactions_exp2['watched']=transactions_exp2.watched_time.map(lambda x: 0 if x < 0.51 else 1)\n",
    "\n",
    "transactions_exp3=transactions_exp\n",
    "transactions_exp3['worst']=transactions_exp3.watched_time.map(lambda x:1 if x < 0.2  and x >0.1 else 0)\n",
    "transactions_exp3['watched']=transactions_exp3.watched_time.map(lambda x: 0 if x < 0.51 else 1)\n",
    "\n",
    "transactions_exp4=transactions_exp\n",
    "transactions_exp4['worst']=transactions_exp4.watched_time.map(lambda x:1 if x < 0.1 and x >0.005 else 0)\n",
    "transactions_exp4['watched']=transactions_exp4.watched_time.map(lambda x: 0 if x < 0.51 else 1)\n",
    "\n",
    "\n"
   ]
  },
  {
   "cell_type": "code",
   "execution_count": 61,
   "metadata": {},
   "outputs": [],
   "source": [
    "transactions_exp1[transactions_exp1['5%'] == 1]=transactions_exp1[transactions_exp1['5%'] == 1].fillna(1.0)\n",
    "transactions_exp1[transactions_exp1['10%'] == 1]=transactions_exp1[transactions_exp1['10%'] == 1].fillna(2.0)\n",
    "transactions_exp1[transactions_exp1['15%'] == 1]=transactions_exp1[transactions_exp1['15%'] == 1].fillna(3.0)\n",
    "transactions_exp1[transactions_exp1['20%'] == 1]=transactions_exp1[transactions_exp1['20%'] == 1].fillna(4.0)        \n",
    "                                                                   \n",
    "transactions_exp2[transactions_exp2.worst == 1]=transactions_exp2[transactions_exp2.worst == 1].fillna(2.0)\n",
    "                                                                   \n",
    "\n",
    "transactions_exp3[transactions_exp3.worst == 1]=transactions_exp3[transactions_exp3.worst == 1].fillna(2.0)                                                                \n",
    "\n",
    "transactions_exp4[transactions_exp4.worst == 1]=transactions_exp4[transactions_exp4.worst == 1].fillna(2.0)                                                                   "
   ]
  },
  {
   "cell_type": "code",
   "execution_count": 73,
   "metadata": {},
   "outputs": [
    {
     "data": {
      "text/plain": [
       "Unnamed: 0      0.000000\n",
       "Unnamed: 0.1    0.000000\n",
       "element_uid     0.000000\n",
       "user_uid        0.000000\n",
       "watched_time    0.000374\n",
       "rating          0.836295\n",
       "duration        0.000000\n",
       "feature_1       0.000000\n",
       "feature_2       0.000000\n",
       "feature_3       0.000000\n",
       "feature_4       0.000000\n",
       "quantity        0.000000\n",
       "rating_mean     0.004173\n",
       "CM_S            0.000000\n",
       "CM_P            0.000000\n",
       "CM_R            0.000000\n",
       "feature_5_65    0.000000\n",
       "feature_5_00    0.000000\n",
       "feature_5_68    0.000000\n",
       "feature_5_59    0.000000\n",
       "feature_5_-1    0.000000\n",
       "feature_5_44    0.000000\n",
       "smallf3         0.000000\n",
       "middlef3        0.000000\n",
       "bigf3           0.000000\n",
       "type_m          0.000000\n",
       "type_s          0.000000\n",
       "type_mm         0.000000\n",
       "longfilm        0.000000\n",
       "shortfilm       0.000000\n",
       "worst           0.000000\n",
       "watched         0.000000\n",
       "dtype: float64"
      ]
     },
     "execution_count": 73,
     "metadata": {},
     "output_type": "execute_result"
    }
   ],
   "source": [
    "(transactions_exp.isnull().sum()/transactions_exp.shape[0])"
   ]
  },
  {
   "cell_type": "code",
   "execution_count": 74,
   "metadata": {},
   "outputs": [
    {
     "data": {
      "text/plain": [
       "Unnamed: 0      0.000000\n",
       "Unnamed: 0.1    0.000000\n",
       "element_uid     0.000000\n",
       "user_uid        0.000000\n",
       "watched_time    0.000374\n",
       "rating          0.783314\n",
       "duration        0.000000\n",
       "feature_1       0.000000\n",
       "feature_2       0.000000\n",
       "feature_3       0.000000\n",
       "feature_4       0.000000\n",
       "quantity        0.000000\n",
       "rating_mean     0.003792\n",
       "CM_S            0.000000\n",
       "CM_P            0.000000\n",
       "CM_R            0.000000\n",
       "feature_5_65    0.000000\n",
       "feature_5_00    0.000000\n",
       "feature_5_68    0.000000\n",
       "feature_5_59    0.000000\n",
       "feature_5_-1    0.000000\n",
       "feature_5_44    0.000000\n",
       "smallf3         0.000000\n",
       "middlef3        0.000000\n",
       "bigf3           0.000000\n",
       "type_m          0.000000\n",
       "type_s          0.000000\n",
       "type_mm         0.000000\n",
       "longfilm        0.000000\n",
       "shortfilm       0.000000\n",
       "5%              0.000000\n",
       "10%             0.000000\n",
       "15%             0.000000\n",
       "20%             0.000000\n",
       "watched         0.000000\n",
       "dtype: float64"
      ]
     },
     "execution_count": 74,
     "metadata": {},
     "output_type": "execute_result"
    }
   ],
   "source": [
    "(transactions_exp1.isnull().sum()/transactions_exp1.shape[0])"
   ]
  },
  {
   "cell_type": "code",
   "execution_count": 75,
   "metadata": {},
   "outputs": [
    {
     "data": {
      "text/plain": [
       "Unnamed: 0      0.000000\n",
       "Unnamed: 0.1    0.000000\n",
       "element_uid     0.000000\n",
       "user_uid        0.000000\n",
       "watched_time    0.000374\n",
       "rating          0.784336\n",
       "duration        0.000000\n",
       "feature_1       0.000000\n",
       "feature_2       0.000000\n",
       "feature_3       0.000000\n",
       "feature_4       0.000000\n",
       "quantity        0.000000\n",
       "rating_mean     0.003801\n",
       "CM_S            0.000000\n",
       "CM_P            0.000000\n",
       "CM_R            0.000000\n",
       "feature_5_65    0.000000\n",
       "feature_5_00    0.000000\n",
       "feature_5_68    0.000000\n",
       "feature_5_59    0.000000\n",
       "feature_5_-1    0.000000\n",
       "feature_5_44    0.000000\n",
       "smallf3         0.000000\n",
       "middlef3        0.000000\n",
       "bigf3           0.000000\n",
       "type_m          0.000000\n",
       "type_s          0.000000\n",
       "type_mm         0.000000\n",
       "longfilm        0.000000\n",
       "shortfilm       0.000000\n",
       "worst           0.000000\n",
       "watched         0.000000\n",
       "dtype: float64"
      ]
     },
     "execution_count": 75,
     "metadata": {},
     "output_type": "execute_result"
    }
   ],
   "source": [
    "(transactions_exp2.isnull().sum()/transactions_exp2.shape[0])"
   ]
  },
  {
   "cell_type": "code",
   "execution_count": 76,
   "metadata": {},
   "outputs": [
    {
     "data": {
      "text/plain": [
       "Unnamed: 0      0.000000\n",
       "Unnamed: 0.1    0.000000\n",
       "element_uid     0.000000\n",
       "user_uid        0.000000\n",
       "watched_time    0.000374\n",
       "rating          0.911364\n",
       "duration        0.000000\n",
       "feature_1       0.000000\n",
       "feature_2       0.000000\n",
       "feature_3       0.000000\n",
       "feature_4       0.000000\n",
       "quantity        0.000000\n",
       "rating_mean     0.005086\n",
       "CM_S            0.000000\n",
       "CM_P            0.000000\n",
       "CM_R            0.000000\n",
       "feature_5_65    0.000000\n",
       "feature_5_00    0.000000\n",
       "feature_5_68    0.000000\n",
       "feature_5_59    0.000000\n",
       "feature_5_-1    0.000000\n",
       "feature_5_44    0.000000\n",
       "smallf3         0.000000\n",
       "middlef3        0.000000\n",
       "bigf3           0.000000\n",
       "type_m          0.000000\n",
       "type_s          0.000000\n",
       "type_mm         0.000000\n",
       "longfilm        0.000000\n",
       "shortfilm       0.000000\n",
       "worst           0.000000\n",
       "watched         0.000000\n",
       "dtype: float64"
      ]
     },
     "execution_count": 76,
     "metadata": {},
     "output_type": "execute_result"
    }
   ],
   "source": [
    "(transactions_exp3.isnull().sum()/transactions_exp3.shape[0])"
   ]
  },
  {
   "cell_type": "code",
   "execution_count": 77,
   "metadata": {},
   "outputs": [
    {
     "data": {
      "text/plain": [
       "Unnamed: 0      0.000000\n",
       "Unnamed: 0.1    0.000000\n",
       "element_uid     0.000000\n",
       "user_uid        0.000000\n",
       "watched_time    0.000374\n",
       "rating          0.836295\n",
       "duration        0.000000\n",
       "feature_1       0.000000\n",
       "feature_2       0.000000\n",
       "feature_3       0.000000\n",
       "feature_4       0.000000\n",
       "quantity        0.000000\n",
       "rating_mean     0.004173\n",
       "CM_S            0.000000\n",
       "CM_P            0.000000\n",
       "CM_R            0.000000\n",
       "feature_5_65    0.000000\n",
       "feature_5_00    0.000000\n",
       "feature_5_68    0.000000\n",
       "feature_5_59    0.000000\n",
       "feature_5_-1    0.000000\n",
       "feature_5_44    0.000000\n",
       "smallf3         0.000000\n",
       "middlef3        0.000000\n",
       "bigf3           0.000000\n",
       "type_m          0.000000\n",
       "type_s          0.000000\n",
       "type_mm         0.000000\n",
       "longfilm        0.000000\n",
       "shortfilm       0.000000\n",
       "worst           0.000000\n",
       "watched         0.000000\n",
       "dtype: float64"
      ]
     },
     "execution_count": 77,
     "metadata": {},
     "output_type": "execute_result"
    }
   ],
   "source": [
    "(transactions_exp4.isnull().sum()/transactions_exp4.shape[0])"
   ]
  },
  {
   "cell_type": "code",
   "execution_count": 66,
   "metadata": {},
   "outputs": [],
   "source": [
    "del transactions_exp\n",
    "transactions_exp = pd.read_csv(\n",
    "    os.path.join(DATA_PATH, 'transactions_exp.csv'),\n",
    "    \n",
    ")"
   ]
  },
  {
   "cell_type": "code",
   "execution_count": 68,
   "metadata": {},
   "outputs": [],
   "source": [
    "transactions_exp1=transactions_exp\n",
    "transactions_exp1['5%']=transactions_exp1.watched_time.map(lambda x:1 if x < 0.051 and x >0.005 else 0)\n",
    "transactions_exp1['10%']=transactions_exp1.watched_time.map(lambda x:1 if x < 0.101 and x >0.05 else 0)\n",
    "transactions_exp1['15%']=transactions_exp1.watched_time.map(lambda x:1 if x < 0.151 and x >0.10 else 0)\n",
    "transactions_exp1['20%']=transactions_exp1.watched_time.map(lambda x:1 if x < 0.201 and x >0.15 else 0)\n",
    "transactions_exp1['watched']=transactions_exp1.watched_time.map(lambda x: 0 if x < 0.51 else 1)\n",
    "\n",
    "transactions_exp1[transactions_exp1['5%'] == 1]=transactions_exp1[transactions_exp1['5%'] == 1].fillna(1.0)\n",
    "transactions_exp1[transactions_exp1['10%'] == 1]=transactions_exp1[transactions_exp1['10%'] == 1].fillna(2.0)\n",
    "transactions_exp1[transactions_exp1['15%'] == 1]=transactions_exp1[transactions_exp1['15%'] == 1].fillna(3.0)\n",
    "transactions_exp1[transactions_exp1['20%'] == 1]=transactions_exp1[transactions_exp1['20%'] == 1].fillna(4.0)        \n",
    "             \n",
    "del transactions_exp\n"
   ]
  },
  {
   "cell_type": "code",
   "execution_count": 69,
   "metadata": {},
   "outputs": [
    {
     "data": {
      "text/html": [
       "<div>\n",
       "<style scoped>\n",
       "    .dataframe tbody tr th:only-of-type {\n",
       "        vertical-align: middle;\n",
       "    }\n",
       "\n",
       "    .dataframe tbody tr th {\n",
       "        vertical-align: top;\n",
       "    }\n",
       "\n",
       "    .dataframe thead th {\n",
       "        text-align: right;\n",
       "    }\n",
       "</style>\n",
       "<table border=\"1\" class=\"dataframe\">\n",
       "  <thead>\n",
       "    <tr style=\"text-align: right;\">\n",
       "      <th></th>\n",
       "      <th>Unnamed: 0</th>\n",
       "      <th>Unnamed: 0.1</th>\n",
       "      <th>element_uid</th>\n",
       "      <th>user_uid</th>\n",
       "      <th>watched_time</th>\n",
       "      <th>rating</th>\n",
       "      <th>duration</th>\n",
       "      <th>feature_1</th>\n",
       "      <th>feature_2</th>\n",
       "      <th>feature_3</th>\n",
       "      <th>...</th>\n",
       "      <th>smallf3</th>\n",
       "      <th>middlef3</th>\n",
       "      <th>bigf3</th>\n",
       "      <th>type_m</th>\n",
       "      <th>type_s</th>\n",
       "      <th>type_mm</th>\n",
       "      <th>longfilm</th>\n",
       "      <th>shortfilm</th>\n",
       "      <th>worst</th>\n",
       "      <th>watched</th>\n",
       "    </tr>\n",
       "  </thead>\n",
       "  <tbody>\n",
       "    <tr>\n",
       "      <th>23</th>\n",
       "      <td>23</td>\n",
       "      <td>23</td>\n",
       "      <td>3336</td>\n",
       "      <td>286792</td>\n",
       "      <td>1.000741</td>\n",
       "      <td>NaN</td>\n",
       "      <td>90</td>\n",
       "      <td>4.166108e+07</td>\n",
       "      <td>0.739609</td>\n",
       "      <td>45</td>\n",
       "      <td>...</td>\n",
       "      <td>0</td>\n",
       "      <td>0</td>\n",
       "      <td>1</td>\n",
       "      <td>1</td>\n",
       "      <td>0</td>\n",
       "      <td>0</td>\n",
       "      <td>0</td>\n",
       "      <td>0</td>\n",
       "      <td>0</td>\n",
       "      <td>1</td>\n",
       "    </tr>\n",
       "    <tr>\n",
       "      <th>24</th>\n",
       "      <td>24</td>\n",
       "      <td>24</td>\n",
       "      <td>3336</td>\n",
       "      <td>319767</td>\n",
       "      <td>0.043704</td>\n",
       "      <td>2.0</td>\n",
       "      <td>90</td>\n",
       "      <td>4.166108e+07</td>\n",
       "      <td>0.739609</td>\n",
       "      <td>45</td>\n",
       "      <td>...</td>\n",
       "      <td>0</td>\n",
       "      <td>0</td>\n",
       "      <td>1</td>\n",
       "      <td>1</td>\n",
       "      <td>0</td>\n",
       "      <td>0</td>\n",
       "      <td>0</td>\n",
       "      <td>0</td>\n",
       "      <td>1</td>\n",
       "      <td>0</td>\n",
       "    </tr>\n",
       "  </tbody>\n",
       "</table>\n",
       "<p>2 rows × 32 columns</p>\n",
       "</div>"
      ],
      "text/plain": [
       "    Unnamed: 0  Unnamed: 0.1  element_uid  user_uid  watched_time  rating  \\\n",
       "23          23            23         3336    286792      1.000741     NaN   \n",
       "24          24            24         3336    319767      0.043704     2.0   \n",
       "\n",
       "    duration     feature_1  feature_2  feature_3   ...     smallf3  middlef3  \\\n",
       "23        90  4.166108e+07   0.739609         45   ...           0         0   \n",
       "24        90  4.166108e+07   0.739609         45   ...           0         0   \n",
       "\n",
       "    bigf3  type_m  type_s  type_mm  longfilm  shortfilm  worst  watched  \n",
       "23      1       1       0        0         0          0      0        1  \n",
       "24      1       1       0        0         0          0      1        0  \n",
       "\n",
       "[2 rows x 32 columns]"
      ]
     },
     "execution_count": 69,
     "metadata": {},
     "output_type": "execute_result"
    }
   ],
   "source": [
    "transactions_exp = pd.read_csv(\n",
    "    os.path.join(DATA_PATH, 'transactions_exp.csv'),\n",
    "    \n",
    ")\n",
    "transactions_exp2=transactions_exp\n",
    "transactions_exp2['worst']=transactions_exp2.watched_time.map(lambda x:1 if x < 0.2 and x >0.005 else 0)\n",
    "transactions_exp2['watched']=transactions_exp2.watched_time.map(lambda x: 0 if x < 0.51 else 1)\n",
    "\n",
    "transactions_exp2[transactions_exp2.worst == 1]=transactions_exp2[transactions_exp2.worst == 1].fillna(2.0)\n",
    "transactions_exp2[23:25]"
   ]
  },
  {
   "cell_type": "code",
   "execution_count": 71,
   "metadata": {},
   "outputs": [],
   "source": [
    "del transactions_exp\n",
    "transactions_exp = pd.read_csv(\n",
    "    os.path.join(DATA_PATH, 'transactions_exp.csv'),\n",
    "    \n",
    ")\n",
    "\n",
    "\n",
    "transactions_exp3=transactions_exp\n",
    "transactions_exp3['worst']=transactions_exp3.watched_time.map(lambda x:1 if x < 0.2  and x >0.1 else 0)\n",
    "transactions_exp3['watched']=transactions_exp3.watched_time.map(lambda x: 0 if x < 0.51 else 1)\n",
    "transactions_exp3[23:25]\n",
    "\n",
    "transactions_exp3[transactions_exp3.worst == 1]=transactions_exp3[transactions_exp3.worst == 1].fillna(2.0)                                                                \n"
   ]
  },
  {
   "cell_type": "code",
   "execution_count": 72,
   "metadata": {},
   "outputs": [],
   "source": [
    "del transactions_exp\n",
    "transactions_exp = pd.read_csv(\n",
    "    os.path.join(DATA_PATH, 'transactions_exp.csv'),\n",
    "    \n",
    ")\n",
    "\n",
    "transactions_exp4=transactions_exp\n",
    "transactions_exp4['worst']=transactions_exp4.watched_time.map(lambda x:1 if x < 0.1 and x >0.005 else 0)\n",
    "transactions_exp4['watched']=transactions_exp4.watched_time.map(lambda x: 0 if x < 0.51 else 1)\n",
    "\n",
    "                                                   \n",
    "\n",
    "transactions_exp4[transactions_exp4.worst == 1]=transactions_exp4[transactions_exp4.worst == 1].fillna(2.0)    \n"
   ]
  },
  {
   "cell_type": "code",
   "execution_count": 78,
   "metadata": {},
   "outputs": [
    {
     "data": {
      "text/plain": [
       "Unnamed: 0      0.000000\n",
       "Unnamed: 0.1    0.000000\n",
       "element_uid     0.000000\n",
       "user_uid        0.000000\n",
       "watched_time    0.000374\n",
       "rating          0.962943\n",
       "duration        0.000000\n",
       "feature_1       0.000000\n",
       "feature_2       0.000000\n",
       "feature_3       0.000000\n",
       "feature_4       0.000000\n",
       "quantity        0.000000\n",
       "rating_mean     0.005450\n",
       "CM_S            0.000000\n",
       "CM_P            0.000000\n",
       "CM_R            0.000000\n",
       "feature_5_65    0.000000\n",
       "feature_5_00    0.000000\n",
       "feature_5_68    0.000000\n",
       "feature_5_59    0.000000\n",
       "feature_5_-1    0.000000\n",
       "feature_5_44    0.000000\n",
       "smallf3         0.000000\n",
       "middlef3        0.000000\n",
       "bigf3           0.000000\n",
       "type_m          0.000000\n",
       "type_s          0.000000\n",
       "type_mm         0.000000\n",
       "longfilm        0.000000\n",
       "shortfilm       0.000000\n",
       "dtype: float64"
      ]
     },
     "execution_count": 78,
     "metadata": {},
     "output_type": "execute_result"
    }
   ],
   "source": [
    "del transactions_exp\n",
    "transactions_exp = pd.read_csv(\n",
    "    os.path.join(DATA_PATH, 'transactions_exp.csv'),\n",
    "    \n",
    ")\n",
    "\n",
    "(transactions_exp.isnull().sum()/transactions_exp.shape[0])"
   ]
  },
  {
   "cell_type": "code",
   "execution_count": null,
   "metadata": {},
   "outputs": [],
   "source": [
    "transactions_exp1.to_csv(os.path.join(DATA_PATH, 'transactions_exp1.csv'))\n",
    "transactions_exp2.to_csv(os.path.join(DATA_PATH, 'transactions_exp2.csv'))\n",
    "transactions_exp3.to_csv(os.path.join(DATA_PATH, 'transactions_exp3.csv'))\n",
    "transactions_exp4.to_csv(os.path.join(DATA_PATH, 'transactions_exp4.csv'))"
   ]
  },
  {
   "cell_type": "code",
   "execution_count": null,
   "metadata": {},
   "outputs": [],
   "source": []
  }
 ],
 "metadata": {
  "kernelspec": {
   "display_name": "Python 3",
   "language": "python",
   "name": "python3"
  },
  "language_info": {
   "codemirror_mode": {
    "name": "ipython",
    "version": 3
   },
   "file_extension": ".py",
   "mimetype": "text/x-python",
   "name": "python",
   "nbconvert_exporter": "python",
   "pygments_lexer": "ipython3",
   "version": "3.6.6"
  }
 },
 "nbformat": 4,
 "nbformat_minor": 2
}
