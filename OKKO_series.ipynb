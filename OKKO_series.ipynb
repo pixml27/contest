{
 "cells": [
  {
   "cell_type": "code",
   "execution_count": 32,
   "metadata": {},
   "outputs": [
    {
     "name": "stdout",
     "output_type": "stream",
     "text": [
      "<class 'pandas.core.frame.DataFrame'>\n",
      "RangeIndex: 1076152 entries, 0 to 1076151\n",
      "Data columns (total 31 columns):\n",
      "element_uid       1076152 non-null int32\n",
      "user_uid          1076152 non-null int32\n",
      "watched_time_x    1072866 non-null float64\n",
      "rating            7393 non-null float64\n",
      "duration          1076152 non-null int16\n",
      "feature_2         1076152 non-null float64\n",
      "feature_3         1076152 non-null int16\n",
      "feature_4         1076152 non-null float64\n",
      "quantity          1076152 non-null int64\n",
      "rating_mean       1051603 non-null float64\n",
      "CM_S              1076152 non-null int16\n",
      "CM_P              1076152 non-null int16\n",
      "CM_R              1076152 non-null int16\n",
      "feature_5_65      1076152 non-null int16\n",
      "feature_5_00      1076152 non-null int16\n",
      "feature_5_68      1076152 non-null int16\n",
      "feature_5_59      1076152 non-null int16\n",
      "feature_5_-1      1076152 non-null int16\n",
      "feature_5_44      1076152 non-null int16\n",
      "smallf3           1076152 non-null int16\n",
      "middlef3          1076152 non-null int16\n",
      "bigf3             1076152 non-null int16\n",
      "ts-f1             1076152 non-null float64\n",
      "minus             1076152 non-null int16\n",
      "watched_time_y    1076152 non-null int64\n",
      "DEV0              1076152 non-null int16\n",
      "DEV1              1076152 non-null int16\n",
      "DEV3              1076152 non-null int16\n",
      "DEV4              1076152 non-null int16\n",
      "DEV5              1076152 non-null int16\n",
      "DEV6              1076152 non-null int16\n",
      "dtypes: float64(6), int16(21), int32(2), int64(2)\n",
      "memory usage: 117.0 MB\n"
     ]
    }
   ],
   "source": [
    "import os\n",
    "import json\n",
    "import pandas as pd\n",
    "import numpy as np\n",
    "import tqdm\n",
    "import scipy.sparse as sp\n",
    "from matplotlib import pyplot as plt\n",
    "import seaborn as sns\n",
    "import mglearn\n",
    "%matplotlib inline\n",
    "from IPython.display import display\n",
    "from pprint import pprint\n",
    "pd.set_option('display.max_columns', 50)\n",
    "DATA_PATH='D:\\download'\n",
    "t_e = pd.read_csv(\n",
    "    os.path.join(DATA_PATH, 'transactions_series_toregress.csv'),\n",
    "    \n",
    ")\n",
    "t_e['DEV0']=t_e['DEV0'].astype(np.int16)\n",
    "t_e['DEV1']=t_e['DEV1'].astype(np.int16)\n",
    "t_e['DEV3']=t_e['DEV3'].astype(np.int16)\n",
    "t_e['DEV4']=t_e['DEV4'].astype(np.int16)\n",
    "t_e['DEV5']=t_e['DEV5'].astype(np.int16)\n",
    "t_e['DEV6']=t_e['DEV6'].astype(np.int16)\n",
    "t_e['feature_5_65']=t_e['feature_5_65'].astype(np.int16)\n",
    "t_e['feature_5_00']=t_e['feature_5_00'].astype(np.int16)\n",
    "t_e['feature_5_68']=t_e['feature_5_68'].astype(np.int16)\n",
    "t_e['feature_5_59']=t_e['feature_5_59'].astype(np.int16)\n",
    "t_e['feature_5_-1']=t_e['feature_5_-1'].astype(np.int16)\n",
    "t_e['smallf3']= t_e['smallf3'].astype(np.int16)\n",
    "t_e['middlef3']=t_e['middlef3'].astype(np.int16)\n",
    "t_e['bigf3']=t_e['bigf3'].astype(np.int16)\n",
    "t_e['CM_S']=t_e['CM_S'].astype(np.int16)\n",
    "t_e['CM_P']=t_e['CM_P'].astype(np.int16)\n",
    "t_e['CM_R']=t_e['CM_R'].astype(np.int16)\n",
    "t_e['minus']=t_e['minus'].astype(np.int16)\n",
    "t_e['feature_5_44']=t_e['feature_5_44'].astype(np.int16)\n",
    "t_e['feature_3']=t_e['feature_3'].astype(np.int16)\n",
    "t_e['duration']=t_e['duration'].astype(np.int16)\n",
    "t_e['element_uid']=t_e['element_uid'].astype(np.int32)\n",
    "t_e['user_uid']=t_e['user_uid'].astype(np.int32)\n",
    "\n",
    "t_e=t_e.drop(['Unnamed: 0'],1)\n",
    "t_e.info()"
   ]
  },
  {
   "cell_type": "code",
   "execution_count": 33,
   "metadata": {},
   "outputs": [],
   "source": [
    "t_e.duration= t_e.duration.map(lambda x: 5 if x == 0 else x)\n",
    "t_e.watched_time_x=(t_e.watched_time_y/60)/(t_e.duration)\n",
    "t_e['ts-f1']=t_e['ts-f1'].abs()\n"
   ]
  },
  {
   "cell_type": "code",
   "execution_count": 34,
   "metadata": {
    "scrolled": true
   },
   "outputs": [],
   "source": [
    "t_e[t_e.watched_time_x > 20] = t_e[t_e.watched_time_x > 20].fillna(10.0)\n",
    "t_e[t_e.watched_time_x > 10] = t_e[t_e.watched_time_x > 10].fillna(8.0)"
   ]
  },
  {
   "cell_type": "code",
   "execution_count": 35,
   "metadata": {},
   "outputs": [],
   "source": [
    "t_e.watched_time_y=(t_e.watched_time_y/60)\n",
    "t_e[\"user_rating_mean\"] = t_e.user_uid.map(t_e.groupby(\"user_uid\").rating.mean())\n",
    "from collections import Counter\n",
    "coun = pd.DataFrame.from_dict(Counter(t_e['user_uid']), orient='index')\n",
    "coun['user_uid']=coun.index\n",
    "coun['quantity_user_views']=coun[0]\n",
    "\n",
    "coun=coun.reset_index()\n",
    "\n",
    "coun=coun.drop(['index'], axis=1)\n",
    "coun=coun.drop([0],1)\n",
    "t_e=pd.merge(t_e, coun, on='user_uid')\n",
    "t_e[\"wt_y_user_mean\"] = t_e.user_uid.map(t_e.groupby(\"user_uid\").watched_time_y.mean())\n",
    "t_e[\"wt_x_user_mean\"] = t_e.user_uid.map(t_e.groupby(\"user_uid\").watched_time_x.mean())\n",
    "t_e[\"new_content\"]=t_e['ts-f1'].map(lambda x: 1 if x<31 else 0)"
   ]
  },
  {
   "cell_type": "code",
   "execution_count": 36,
   "metadata": {},
   "outputs": [],
   "source": [
    "t_e=t_e.drop(['minus'],1 )"
   ]
  },
  {
   "cell_type": "code",
   "execution_count": 37,
   "metadata": {},
   "outputs": [
    {
     "name": "stdout",
     "output_type": "stream",
     "text": [
      "<class 'pandas.core.frame.DataFrame'>\n",
      "Int64Index: 1076152 entries, 0 to 1076151\n",
      "Data columns (total 47 columns):\n",
      "element_uid            1076152 non-null int32\n",
      "user_uid               1076152 non-null int32\n",
      "watched_time_x         1076152 non-null float64\n",
      "rating                 245075 non-null float64\n",
      "duration               1076152 non-null int64\n",
      "feature_2              1076152 non-null float64\n",
      "feature_3              1076152 non-null int16\n",
      "feature_4              1076152 non-null float64\n",
      "quantity               1076152 non-null int64\n",
      "rating_mean            1053930 non-null float64\n",
      "CM_S                   1076152 non-null int16\n",
      "CM_P                   1076152 non-null int16\n",
      "CM_R                   1076152 non-null int16\n",
      "feature_5_65           1076152 non-null int16\n",
      "feature_5_00           1076152 non-null int16\n",
      "feature_5_68           1076152 non-null int16\n",
      "feature_5_59           1076152 non-null int16\n",
      "feature_5_-1           1076152 non-null int16\n",
      "feature_5_44           1076152 non-null int16\n",
      "smallf3                1076152 non-null int16\n",
      "middlef3               1076152 non-null int16\n",
      "bigf3                  1076152 non-null int16\n",
      "ts-f1                  1076152 non-null float64\n",
      "watched_time_y         1076152 non-null float64\n",
      "DEV0                   1076152 non-null int16\n",
      "DEV1                   1076152 non-null int16\n",
      "DEV3                   1076152 non-null int16\n",
      "DEV4                   1076152 non-null int16\n",
      "DEV5                   1076152 non-null int16\n",
      "DEV6                   1076152 non-null int16\n",
      "user_rating_mean       743818 non-null float64\n",
      "quantity_user_views    1076152 non-null int64\n",
      "wt_y_user_mean         1076152 non-null float64\n",
      "wt_x_user_mean         1076152 non-null float64\n",
      "new_content            1076152 non-null int16\n",
      "Q_el_views=1           1076152 non-null int16\n",
      "Q_el_views=4           1076152 non-null int16\n",
      "Q_us_views=1           1076152 non-null int16\n",
      "Q_us_views=4           1076152 non-null int16\n",
      "Q_duration=1           1076152 non-null int16\n",
      "Q_duration=4           1076152 non-null int16\n",
      "Q_wtx=1                1076152 non-null int16\n",
      "Q_wtx=4                1076152 non-null int16\n",
      "Q_f2=1                 1076152 non-null int16\n",
      "Q_f2=4                 1076152 non-null int16\n",
      "Q_f4=1                 1076152 non-null int16\n",
      "Q_f4=4                 1076152 non-null int16\n",
      "dtypes: float64(10), int16(32), int32(2), int64(3)\n",
      "memory usage: 188.8 MB\n"
     ]
    }
   ],
   "source": [
    "\n",
    "t_e['quartile__element_views'] = pd.qcut(t_e['quantity'], 4, ['1','2','3','4'])\n",
    "t_e['quartile__user_views'] = pd.qcut(t_e['quantity_user_views'], 4, ['1','2','3','4'])\n",
    "t_e['quartile__duration'] = pd.qcut(t_e['duration'], 4, ['1','2','3','4'])\n",
    "t_e['quartile__wtx'] = pd.qcut(t_e['wt_x_user_mean'], 4, ['1','2','3','4'])\n",
    "\n",
    "\n",
    "t_e['quartile__f2'] = pd.qcut(t_e['feature_2'], 4, ['1','2','3','4'])\n",
    "t_e['quartile__f4'] = pd.qcut(t_e['feature_4'], 4, ['1','2','3','4'])\n",
    "\n",
    "\n",
    "t_e[\"Q_el_views=1\"]=t_e['quartile__element_views'].map(lambda x: 1 if x=='1' else 0)\n",
    "t_e[\"Q_el_views=4\"]=t_e['quartile__element_views'].map(lambda x: 1 if x=='4' else 0)\n",
    "t_e[\"Q_us_views=1\"]=t_e['quartile__user_views'].map(lambda x: 1 if x=='1' else 0)\n",
    "t_e[\"Q_us_views=4\"]=t_e['quartile__user_views'].map(lambda x: 1 if x=='4' else 0)\n",
    "t_e[\"Q_duration=1\"]=t_e['quartile__duration'].map(lambda x: 1 if x=='1' else 0)\n",
    "t_e[\"Q_duration=4\"]=t_e['quartile__duration'].map(lambda x: 1 if x=='4' else 0)\n",
    "t_e[\"Q_wtx=1\"]=t_e['quartile__wtx'].map(lambda x: 1 if x=='1' else 0)\n",
    "t_e[\"Q_wtx=4\"]=t_e['quartile__wtx'].map(lambda x: 1 if x=='4' else 0)\n",
    "\n",
    "\n",
    "t_e[\"Q_f2=1\"]=t_e['quartile__f2'].map(lambda x: 1 if x=='1' else 0)\n",
    "t_e[\"Q_f2=4\"]=t_e['quartile__f2'].map(lambda x: 1 if x=='4' else 0)\n",
    "t_e[\"Q_f4=1\"]=t_e['quartile__f4'].map(lambda x: 1 if x=='1' else 0)\n",
    "t_e[\"Q_f4=4\"]=t_e['quartile__f4'].map(lambda x: 1 if x=='4' else 0)\n",
    "t_e=t_e.drop(['quartile__element_views', 'quartile__user_views',  'quartile__duration', 'quartile__wtx', 'quartile__f2', 'quartile__f4'],1)\n",
    "t_e['new_content']=t_e['new_content'].astype(np.int16)\n",
    "t_e['Q_el_views=1']=t_e['Q_el_views=1'].astype(np.int16)\n",
    "t_e['Q_el_views=4']=t_e['Q_el_views=4'].astype(np.int16)\n",
    "t_e['Q_us_views=1']=t_e['Q_us_views=1'].astype(np.int16)\n",
    "t_e['Q_us_views=4']=t_e['Q_us_views=4'].astype(np.int16)\n",
    "t_e['Q_duration=1']=t_e['Q_duration=1'].astype(np.int16)\n",
    "t_e['Q_duration=4']=t_e['Q_duration=4'].astype(np.int16)\n",
    "t_e['Q_wtx=1']=t_e['Q_wtx=1'].astype(np.int16)\n",
    "t_e['Q_wtx=4']=t_e['Q_wtx=4'].astype(np.int16)\n",
    "t_e['Q_f2=1']=t_e['Q_f2=1'].astype(np.int16)\n",
    "t_e['Q_f2=4']=t_e['Q_f2=1'].astype(np.int16)\n",
    "t_e['Q_f4=1']=t_e['Q_f4=1'].astype(np.int16)\n",
    "t_e['Q_f4=4']=t_e['Q_f4=1'].astype(np.int16)\n",
    "t_e.info()"
   ]
  },
  {
   "cell_type": "code",
   "execution_count": 38,
   "metadata": {},
   "outputs": [
    {
     "data": {
      "text/plain": [
       "element_uid            0.000000\n",
       "user_uid               0.000000\n",
       "watched_time_x         0.000000\n",
       "rating                 0.772267\n",
       "duration               0.000000\n",
       "feature_2              0.000000\n",
       "feature_3              0.000000\n",
       "feature_4              0.000000\n",
       "quantity               0.000000\n",
       "rating_mean            0.020649\n",
       "CM_S                   0.000000\n",
       "CM_P                   0.000000\n",
       "CM_R                   0.000000\n",
       "feature_5_65           0.000000\n",
       "feature_5_00           0.000000\n",
       "feature_5_68           0.000000\n",
       "feature_5_59           0.000000\n",
       "feature_5_-1           0.000000\n",
       "feature_5_44           0.000000\n",
       "smallf3                0.000000\n",
       "middlef3               0.000000\n",
       "bigf3                  0.000000\n",
       "ts-f1                  0.000000\n",
       "watched_time_y         0.000000\n",
       "DEV0                   0.000000\n",
       "DEV1                   0.000000\n",
       "DEV3                   0.000000\n",
       "DEV4                   0.000000\n",
       "DEV5                   0.000000\n",
       "DEV6                   0.000000\n",
       "user_rating_mean       0.308817\n",
       "quantity_user_views    0.000000\n",
       "wt_y_user_mean         0.000000\n",
       "wt_x_user_mean         0.000000\n",
       "new_content            0.000000\n",
       "Q_el_views=1           0.000000\n",
       "Q_el_views=4           0.000000\n",
       "Q_us_views=1           0.000000\n",
       "Q_us_views=4           0.000000\n",
       "Q_duration=1           0.000000\n",
       "Q_duration=4           0.000000\n",
       "Q_wtx=1                0.000000\n",
       "Q_wtx=4                0.000000\n",
       "Q_f2=1                 0.000000\n",
       "Q_f2=4                 0.000000\n",
       "Q_f4=1                 0.000000\n",
       "Q_f4=4                 0.000000\n",
       "dtype: float64"
      ]
     },
     "execution_count": 38,
     "metadata": {},
     "output_type": "execute_result"
    }
   ],
   "source": [
    "t_e.isnull().sum()/t_e.shape[0]"
   ]
  },
  {
   "cell_type": "code",
   "execution_count": 39,
   "metadata": {},
   "outputs": [],
   "source": [
    "import xgboost as xgb\n",
    "from sklearn.model_selection import cross_val_score\n",
    "from sklearn.model_selection import KFold\n",
    "from sklearn.ensemble import RandomForestRegressor\n",
    "t_e.user_rating_mean=t_e.user_rating_mean.fillna(5.0) \n",
    "t_e=t_e.drop(['user_rating_mean'], 1)\n",
    "transactions_exp=t_e\n",
    "\n",
    "\n",
    "transactions_exp.rating_mean=transactions_exp.rating_mean.fillna(5.0) \n",
    "\n",
    "transactions_exp['worst']=transactions_exp.watched_time_x.map(lambda x:1 if (x < 0.2 and x >0.005) else 0)\n",
    "transactions_exp[transactions_exp.worst == 1]=transactions_exp[transactions_exp.worst == 1].fillna(2.0)\n",
    "\n",
    "\n",
    "\n",
    "X_train = transactions_exp[~transactions_exp.rating.isnull()]\n",
    "X_train=X_train.drop(['rating'],1)\n",
    "X_test = transactions_exp[transactions_exp.rating.isnull()]\n",
    "X_test=X_test.drop(['rating'],1)\n",
    "y_train = transactions_exp[~transactions_exp.rating.isnull()].rating.astype(np.float)\n",
    "y_test = transactions_exp[transactions_exp.rating.isnull()].rating\n",
    "\n",
    "\n",
    "model2 = RandomForestRegressor( n_estimators=522, max_depth=8, random_state=241, n_jobs=-1)\n",
    "\n",
    "model2.fit(X_train, y_train)\n",
    "submit1 = pd.DataFrame(model2.predict(X_test))\n",
    "#kf = KFold(n_splits=5, shuffle=True, random_state=241) \n",
    "\n",
    "estimator=xgb.XGBRegressor(learning_rate=0.1, max_depth=8, n_estimators=700, n_jobs=-1  )\n",
    "\n",
    "    \n",
    "estimator.fit(X_train, y_train)\n",
    "submit2 = pd.DataFrame(estimator.predict(X_test))\n",
    "\n",
    "#model2 = RandomForestRegressor( n_estimators=522, max_depth=8, random_state=241, n_jobs=-1)\n",
    "#score=cross_val_score(model2, X_train, y_train, cv=kf, n_jobs=-1, scoring='mean_squared_error')\n",
    "#print(\"Score is\", score.mean())\n"
   ]
  },
  {
   "cell_type": "code",
   "execution_count": 9,
   "metadata": {},
   "outputs": [],
   "source": [
    "model2.fit(X_train, y_train)\n",
    "submit1 = pd.DataFrame(model2.predict(X_test))"
   ]
  },
  {
   "cell_type": "code",
   "execution_count": 11,
   "metadata": {},
   "outputs": [],
   "source": [
    "\n",
    "estimator=xgb.XGBRegressor(learning_rate=0.1, max_depth=8, n_estimators=700, n_jobs=-1  )\n",
    "\n",
    "    \n",
    "estimator.fit(X_train, y_train)\n",
    "submit2 = pd.DataFrame(estimator.predict(X_test))\n"
   ]
  },
  {
   "cell_type": "code",
   "execution_count": 14,
   "metadata": {},
   "outputs": [
    {
     "name": "stdout",
     "output_type": "stream",
     "text": [
      "Feature importances:\n",
      " 1. feature 'rating' (0.1324)\n",
      " 2. feature 'element_uid' (0.1179)\n",
      " 3. feature 'user_uid' (0.1141)\n"
     ]
    },
    {
     "ename": "IndexError",
     "evalue": "index 29 is out of bounds for axis 0 with size 3",
     "output_type": "error",
     "traceback": [
      "\u001b[1;31m---------------------------------------------------------------------------\u001b[0m",
      "\u001b[1;31mIndexError\u001b[0m                                Traceback (most recent call last)",
      "\u001b[1;32m<ipython-input-14-c7c9fc043bac>\u001b[0m in \u001b[0;36m<module>\u001b[1;34m\u001b[0m\n\u001b[0;32m      4\u001b[0m \u001b[0mprint\u001b[0m\u001b[1;33m(\u001b[0m\u001b[1;34m\"Feature importances:\"\u001b[0m\u001b[1;33m)\u001b[0m\u001b[1;33m\u001b[0m\u001b[0m\n\u001b[0;32m      5\u001b[0m \u001b[1;32mfor\u001b[0m \u001b[0mf\u001b[0m\u001b[1;33m,\u001b[0m \u001b[0midx\u001b[0m \u001b[1;32min\u001b[0m \u001b[0menumerate\u001b[0m\u001b[1;33m(\u001b[0m\u001b[0mindices\u001b[0m\u001b[1;33m)\u001b[0m\u001b[1;33m:\u001b[0m\u001b[1;33m\u001b[0m\u001b[0m\n\u001b[1;32m----> 6\u001b[1;33m     \u001b[0mprint\u001b[0m\u001b[1;33m(\u001b[0m\u001b[1;34m\"{:2d}. feature '{:5}' ({:.4f})\"\u001b[0m\u001b[1;33m.\u001b[0m\u001b[0mformat\u001b[0m\u001b[1;33m(\u001b[0m\u001b[0mf\u001b[0m\u001b[1;33m+\u001b[0m\u001b[1;36m1\u001b[0m\u001b[1;33m,\u001b[0m \u001b[0mfeature_names\u001b[0m\u001b[1;33m[\u001b[0m\u001b[0midx\u001b[0m\u001b[1;33m]\u001b[0m\u001b[1;33m,\u001b[0m \u001b[0mimportances\u001b[0m\u001b[1;33m[\u001b[0m\u001b[0midx\u001b[0m\u001b[1;33m]\u001b[0m\u001b[1;33m)\u001b[0m\u001b[1;33m)\u001b[0m\u001b[1;33m\u001b[0m\u001b[0m\n\u001b[0m",
      "\u001b[1;32mD:\\Anaconda3\\lib\\site-packages\\pandas\\core\\indexes\\base.py\u001b[0m in \u001b[0;36m__getitem__\u001b[1;34m(self, key)\u001b[0m\n\u001b[0;32m   1741\u001b[0m \u001b[1;33m\u001b[0m\u001b[0m\n\u001b[0;32m   1742\u001b[0m         \u001b[1;32mif\u001b[0m \u001b[0mis_scalar\u001b[0m\u001b[1;33m(\u001b[0m\u001b[0mkey\u001b[0m\u001b[1;33m)\u001b[0m\u001b[1;33m:\u001b[0m\u001b[1;33m\u001b[0m\u001b[0m\n\u001b[1;32m-> 1743\u001b[1;33m             \u001b[1;32mreturn\u001b[0m \u001b[0mgetitem\u001b[0m\u001b[1;33m(\u001b[0m\u001b[0mkey\u001b[0m\u001b[1;33m)\u001b[0m\u001b[1;33m\u001b[0m\u001b[0m\n\u001b[0m\u001b[0;32m   1744\u001b[0m \u001b[1;33m\u001b[0m\u001b[0m\n\u001b[0;32m   1745\u001b[0m         \u001b[1;32mif\u001b[0m \u001b[0misinstance\u001b[0m\u001b[1;33m(\u001b[0m\u001b[0mkey\u001b[0m\u001b[1;33m,\u001b[0m \u001b[0mslice\u001b[0m\u001b[1;33m)\u001b[0m\u001b[1;33m:\u001b[0m\u001b[1;33m\u001b[0m\u001b[0m\n",
      "\u001b[1;31mIndexError\u001b[0m: index 29 is out of bounds for axis 0 with size 3"
     ]
    }
   ],
   "source": [
    "importances = estimator.feature_importances_\n",
    "indices = np.argsort(importances)[::-1]\n",
    "feature_names=X_train.columns\n",
    "print(\"Feature importances:\")\n",
    "for f, idx in enumerate(indices):\n",
    "    print(\"{:2d}. feature '{:5}' ({:.4f})\".format(f+1, feature_names[idx], importances[idx]))\n"
   ]
  },
  {
   "cell_type": "code",
   "execution_count": null,
   "metadata": {},
   "outputs": [],
   "source": [
    "Score is -0.09979454312919549 - без кучи признаков\n",
    "Score is -0.05015586917549114 - с фил га 6.0 юзер рейтинг мин\n",
    "нужно попробовать без филл на()"
   ]
  },
  {
   "cell_type": "code",
   "execution_count": 40,
   "metadata": {},
   "outputs": [],
   "source": [
    "X_train = transactions_exp[~transactions_exp.rating.isnull()]\n",
    "#X_train.rating_mean=X_train.rating_mean.fillna(6.0)\n",
    "X_train=X_train.drop([\n",
    "'watched_time_x',\n",
    "'duration',\n",
    "'feature_2',\n",
    "'feature_3',\n",
    "'feature_4',\n",
    "'quantity',\n",
    "'rating_mean',\n",
    "'CM_S',\n",
    "'CM_P',\n",
    "'CM_R',\n",
    "'feature_5_65',\n",
    "'feature_5_00',\n",
    "'feature_5_68',\n",
    "'feature_5_59',\n",
    "'feature_5_-1',\n",
    "'feature_5_44',\n",
    "'smallf3',\n",
    "'middlef3',\n",
    "'bigf3',\n",
    "'ts-f1',\n",
    "'watched_time_y',\n",
    "'DEV0',\n",
    "'DEV1',\n",
    "'DEV3',\n",
    "'DEV4',\n",
    "'DEV5',\n",
    "'DEV6',\n",
    "'quantity_user_views',\n",
    "'wt_y_user_mean',         \n",
    "'wt_x_user_mean',\n",
    "'new_content',\n",
    "'Q_el_views=1',\n",
    "'Q_el_views=4',\n",
    "'Q_duration=1',\n",
    "#'user_rating_mean',\n",
    "'Q_duration=4',\n",
    "'Q_wtx=1',\n",
    "'Q_wtx=4',\n",
    "'Q_f2=1',\n",
    "'Q_f2=4',\n",
    "'Q_f4=1',\n",
    "'Q_f4=4',\n",
    "'Q_us_views=4',\n",
    "'Q_us_views=1'],1)\n",
    "X_test=X_test.drop([\n",
    "'watched_time_x',\n",
    "'duration',\n",
    "'feature_2',\n",
    "'feature_3',\n",
    "'feature_4',\n",
    "'quantity',\n",
    "'rating_mean',\n",
    "'CM_S',\n",
    "'CM_P',\n",
    "'CM_R',\n",
    "'feature_5_65',\n",
    "'feature_5_00',\n",
    "'feature_5_68',\n",
    "'feature_5_59',\n",
    "'feature_5_-1',\n",
    "'feature_5_44',\n",
    "'smallf3',\n",
    "'middlef3',\n",
    "'bigf3',\n",
    "'ts-f1',\n",
    "'watched_time_y',\n",
    "'DEV0',\n",
    "'DEV1',\n",
    "'DEV3',\n",
    "'DEV4',\n",
    "'DEV5',\n",
    "'DEV6',\n",
    "'quantity_user_views',\n",
    "'wt_y_user_mean',         \n",
    "'wt_x_user_mean',\n",
    "'new_content',\n",
    "'Q_el_views=1',\n",
    "'Q_el_views=4',\n",
    "'Q_duration=1',\n",
    "#'user_rating_mean',\n",
    "'Q_duration=4',\n",
    "'Q_wtx=1',\n",
    "'Q_wtx=4',\n",
    "'Q_f2=1',\n",
    "'Q_f2=4',\n",
    "'Q_f4=1',\n",
    "'Q_f4=4',\n",
    "'Q_us_views=4',\n",
    "'Q_us_views=1'],1)\n",
    "#submit[0]=submit[0].round()\n",
    "#submit[0]=submit[0].astype(np.int16)\n",
    "X_test=X_test.reset_index()\n",
    "X_test=X_test.drop(['index'], 1)\n",
    "\n",
    "OLD=pd.concat([X_test, submit2], 1)\n",
    "#OLD.rating=OLD.rating.round()\n",
    "OLD['rating']=OLD[0]\n",
    "OLD=OLD.drop([0],1)\n",
    "#ratings=ratings.drop(['ts'],1)\n",
    "\n",
    "OLD=OLD.append(X_train)\n",
    "OLD.to_csv(\"SeriesRatingXGB4.csv\")\n",
    "OLD=pd.concat([X_test, submit1], 1)\n",
    "#OLD.rating=OLD.rating.round()\n",
    "OLD['rating']=OLD[0]\n",
    "OLD=OLD.drop([0],1)\n",
    "\n",
    "OLD=OLD.append(X_train)\n",
    "OLD.to_csv(\"SeriesRatingRF4.csv\")"
   ]
  },
  {
   "cell_type": "code",
   "execution_count": 18,
   "metadata": {},
   "outputs": [],
   "source": [
    "OLD=pd.concat([X_test, submit1], 1)\n",
    "#OLD.rating=OLD.rating.round()\n",
    "OLD['rating']=OLD[0]\n",
    "OLD=OLD.drop([0],1)\n",
    "OLD=OLD.append(X_train)\n",
    "OLD.to_csv(\"SeriesRatingRF.csv\")"
   ]
  },
  {
   "cell_type": "code",
   "execution_count": null,
   "metadata": {},
   "outputs": [],
   "source": []
  },
  {
   "cell_type": "code",
   "execution_count": 79,
   "metadata": {},
   "outputs": [],
   "source": [
    "OLD.to_csv(\"SeriesRating(withoutstart).csv\")"
   ]
  },
  {
   "cell_type": "code",
   "execution_count": 19,
   "metadata": {},
   "outputs": [],
   "source": []
  },
  {
   "cell_type": "code",
   "execution_count": 20,
   "metadata": {},
   "outputs": [
    {
     "name": "stdout",
     "output_type": "stream",
     "text": [
      "<class 'pandas.core.frame.DataFrame'>\n",
      "RangeIndex: 427890 entries, 0 to 427889\n",
      "Data columns (total 5 columns):\n",
      "element_uid     427890 non-null int32\n",
      "user_uid        427890 non-null int32\n",
      "rating          427890 non-null float64\n",
      "Q_us_views=1    427890 non-null int16\n",
      "Q_us_views=4    427890 non-null int16\n",
      "dtypes: float64(1), int16(2), int32(2)\n",
      "memory usage: 8.2 MB\n"
     ]
    }
   ],
   "source": [
    "X_train.info()\n",
    "OLD=OLD.append(X_train)"
   ]
  },
  {
   "cell_type": "code",
   "execution_count": 21,
   "metadata": {
    "scrolled": true
   },
   "outputs": [
    {
     "name": "stdout",
     "output_type": "stream",
     "text": [
      "<class 'pandas.core.frame.DataFrame'>\n",
      "Int64Index: 1076152 entries, 0 to 427889\n",
      "Data columns (total 3 columns):\n",
      "element_uid    1076152 non-null int32\n",
      "rating         1076152 non-null float64\n",
      "user_uid       1076152 non-null int32\n",
      "dtypes: float64(1), int32(2)\n",
      "memory usage: 24.6 MB\n"
     ]
    }
   ],
   "source": [
    "OLD=OLD.drop(['Q_us_views=4', 'Q_us_views=1'], 1)\n",
    "OLD.info() "
   ]
  },
  {
   "cell_type": "code",
   "execution_count": 22,
   "metadata": {},
   "outputs": [],
   "source": [
    "#OLD=OLD.drop(['Unnamed: 0'], 1)\n",
    "OLD.to_csv(\"SeriesRatingRF.csv\")"
   ]
  },
  {
   "cell_type": "code",
   "execution_count": 23,
   "metadata": {},
   "outputs": [
    {
     "data": {
      "text/plain": [
       "0         10.000000\n",
       "1         10.000000\n",
       "2         10.000000\n",
       "3         10.000000\n",
       "4         10.000000\n",
       "5         10.000000\n",
       "6          5.442965\n",
       "7          5.025445\n",
       "8          5.688655\n",
       "9          6.097752\n",
       "10         5.015592\n",
       "11         3.509259\n",
       "12         5.128670\n",
       "13         5.193659\n",
       "14        10.000000\n",
       "15         9.660503\n",
       "16         5.491107\n",
       "17         5.278297\n",
       "18         7.497592\n",
       "19         6.300915\n",
       "20         7.513081\n",
       "21        10.000000\n",
       "22         9.997987\n",
       "23        10.000000\n",
       "24        10.000000\n",
       "25        10.000000\n",
       "26        10.000000\n",
       "27        10.000000\n",
       "28        10.000000\n",
       "29         8.325056\n",
       "            ...    \n",
       "427860    10.000000\n",
       "427861    10.000000\n",
       "427862    10.000000\n",
       "427863     2.000000\n",
       "427864     2.000000\n",
       "427865     2.000000\n",
       "427866     2.000000\n",
       "427867     2.000000\n",
       "427868     2.000000\n",
       "427869     2.000000\n",
       "427870     2.000000\n",
       "427871     8.000000\n",
       "427872     8.000000\n",
       "427873     8.000000\n",
       "427874     8.000000\n",
       "427875     2.000000\n",
       "427876     8.000000\n",
       "427877     2.000000\n",
       "427878     2.000000\n",
       "427879     2.000000\n",
       "427880     2.000000\n",
       "427881     2.000000\n",
       "427882     2.000000\n",
       "427883     2.000000\n",
       "427884     2.000000\n",
       "427885     2.000000\n",
       "427886    10.000000\n",
       "427887     8.000000\n",
       "427888     2.000000\n",
       "427889     8.000000\n",
       "Name: rating, Length: 1076152, dtype: float64"
      ]
     },
     "execution_count": 23,
     "metadata": {},
     "output_type": "execute_result"
    }
   ],
   "source": [
    "OLD.rating"
   ]
  },
  {
   "cell_type": "code",
   "execution_count": 14,
   "metadata": {},
   "outputs": [],
   "source": [
    "#OLD=OLD.drop(['Unnamed: 0'], 1)\n",
    "OLD.to_csv(\"SeriesRating.csv\")"
   ]
  },
  {
   "cell_type": "code",
   "execution_count": 2,
   "metadata": {},
   "outputs": [
    {
     "ename": "FileNotFoundError",
     "evalue": "File b'SeriesRatingXGB.csv' does not exist",
     "output_type": "error",
     "traceback": [
      "\u001b[1;31m---------------------------------------------------------------------------\u001b[0m",
      "\u001b[1;31mFileNotFoundError\u001b[0m                         Traceback (most recent call last)",
      "\u001b[1;32m<ipython-input-2-c70ba54609bc>\u001b[0m in \u001b[0;36m<module>\u001b[1;34m\u001b[0m\n\u001b[1;32m----> 1\u001b[1;33m \u001b[0me\u001b[0m\u001b[1;33m=\u001b[0m\u001b[0mpd\u001b[0m\u001b[1;33m.\u001b[0m\u001b[0mread_csv\u001b[0m\u001b[1;33m(\u001b[0m\u001b[1;34m'SeriesRatingXGB.csv'\u001b[0m\u001b[1;33m)\u001b[0m\u001b[1;33m\u001b[0m\u001b[0m\n\u001b[0m",
      "\u001b[1;32mD:\\Anaconda3\\lib\\site-packages\\pandas\\io\\parsers.py\u001b[0m in \u001b[0;36mparser_f\u001b[1;34m(filepath_or_buffer, sep, delimiter, header, names, index_col, usecols, squeeze, prefix, mangle_dupe_cols, dtype, engine, converters, true_values, false_values, skipinitialspace, skiprows, nrows, na_values, keep_default_na, na_filter, verbose, skip_blank_lines, parse_dates, infer_datetime_format, keep_date_col, date_parser, dayfirst, iterator, chunksize, compression, thousands, decimal, lineterminator, quotechar, quoting, escapechar, comment, encoding, dialect, tupleize_cols, error_bad_lines, warn_bad_lines, skipfooter, skip_footer, doublequote, delim_whitespace, as_recarray, compact_ints, use_unsigned, low_memory, buffer_lines, memory_map, float_precision)\u001b[0m\n\u001b[0;32m    707\u001b[0m                     skip_blank_lines=skip_blank_lines)\n\u001b[0;32m    708\u001b[0m \u001b[1;33m\u001b[0m\u001b[0m\n\u001b[1;32m--> 709\u001b[1;33m         \u001b[1;32mreturn\u001b[0m \u001b[0m_read\u001b[0m\u001b[1;33m(\u001b[0m\u001b[0mfilepath_or_buffer\u001b[0m\u001b[1;33m,\u001b[0m \u001b[0mkwds\u001b[0m\u001b[1;33m)\u001b[0m\u001b[1;33m\u001b[0m\u001b[0m\n\u001b[0m\u001b[0;32m    710\u001b[0m \u001b[1;33m\u001b[0m\u001b[0m\n\u001b[0;32m    711\u001b[0m     \u001b[0mparser_f\u001b[0m\u001b[1;33m.\u001b[0m\u001b[0m__name__\u001b[0m \u001b[1;33m=\u001b[0m \u001b[0mname\u001b[0m\u001b[1;33m\u001b[0m\u001b[0m\n",
      "\u001b[1;32mD:\\Anaconda3\\lib\\site-packages\\pandas\\io\\parsers.py\u001b[0m in \u001b[0;36m_read\u001b[1;34m(filepath_or_buffer, kwds)\u001b[0m\n\u001b[0;32m    447\u001b[0m \u001b[1;33m\u001b[0m\u001b[0m\n\u001b[0;32m    448\u001b[0m     \u001b[1;31m# Create the parser.\u001b[0m\u001b[1;33m\u001b[0m\u001b[1;33m\u001b[0m\u001b[0m\n\u001b[1;32m--> 449\u001b[1;33m     \u001b[0mparser\u001b[0m \u001b[1;33m=\u001b[0m \u001b[0mTextFileReader\u001b[0m\u001b[1;33m(\u001b[0m\u001b[0mfilepath_or_buffer\u001b[0m\u001b[1;33m,\u001b[0m \u001b[1;33m**\u001b[0m\u001b[0mkwds\u001b[0m\u001b[1;33m)\u001b[0m\u001b[1;33m\u001b[0m\u001b[0m\n\u001b[0m\u001b[0;32m    450\u001b[0m \u001b[1;33m\u001b[0m\u001b[0m\n\u001b[0;32m    451\u001b[0m     \u001b[1;32mif\u001b[0m \u001b[0mchunksize\u001b[0m \u001b[1;32mor\u001b[0m \u001b[0miterator\u001b[0m\u001b[1;33m:\u001b[0m\u001b[1;33m\u001b[0m\u001b[0m\n",
      "\u001b[1;32mD:\\Anaconda3\\lib\\site-packages\\pandas\\io\\parsers.py\u001b[0m in \u001b[0;36m__init__\u001b[1;34m(self, f, engine, **kwds)\u001b[0m\n\u001b[0;32m    816\u001b[0m             \u001b[0mself\u001b[0m\u001b[1;33m.\u001b[0m\u001b[0moptions\u001b[0m\u001b[1;33m[\u001b[0m\u001b[1;34m'has_index_names'\u001b[0m\u001b[1;33m]\u001b[0m \u001b[1;33m=\u001b[0m \u001b[0mkwds\u001b[0m\u001b[1;33m[\u001b[0m\u001b[1;34m'has_index_names'\u001b[0m\u001b[1;33m]\u001b[0m\u001b[1;33m\u001b[0m\u001b[0m\n\u001b[0;32m    817\u001b[0m \u001b[1;33m\u001b[0m\u001b[0m\n\u001b[1;32m--> 818\u001b[1;33m         \u001b[0mself\u001b[0m\u001b[1;33m.\u001b[0m\u001b[0m_make_engine\u001b[0m\u001b[1;33m(\u001b[0m\u001b[0mself\u001b[0m\u001b[1;33m.\u001b[0m\u001b[0mengine\u001b[0m\u001b[1;33m)\u001b[0m\u001b[1;33m\u001b[0m\u001b[0m\n\u001b[0m\u001b[0;32m    819\u001b[0m \u001b[1;33m\u001b[0m\u001b[0m\n\u001b[0;32m    820\u001b[0m     \u001b[1;32mdef\u001b[0m \u001b[0mclose\u001b[0m\u001b[1;33m(\u001b[0m\u001b[0mself\u001b[0m\u001b[1;33m)\u001b[0m\u001b[1;33m:\u001b[0m\u001b[1;33m\u001b[0m\u001b[0m\n",
      "\u001b[1;32mD:\\Anaconda3\\lib\\site-packages\\pandas\\io\\parsers.py\u001b[0m in \u001b[0;36m_make_engine\u001b[1;34m(self, engine)\u001b[0m\n\u001b[0;32m   1047\u001b[0m     \u001b[1;32mdef\u001b[0m \u001b[0m_make_engine\u001b[0m\u001b[1;33m(\u001b[0m\u001b[0mself\u001b[0m\u001b[1;33m,\u001b[0m \u001b[0mengine\u001b[0m\u001b[1;33m=\u001b[0m\u001b[1;34m'c'\u001b[0m\u001b[1;33m)\u001b[0m\u001b[1;33m:\u001b[0m\u001b[1;33m\u001b[0m\u001b[0m\n\u001b[0;32m   1048\u001b[0m         \u001b[1;32mif\u001b[0m \u001b[0mengine\u001b[0m \u001b[1;33m==\u001b[0m \u001b[1;34m'c'\u001b[0m\u001b[1;33m:\u001b[0m\u001b[1;33m\u001b[0m\u001b[0m\n\u001b[1;32m-> 1049\u001b[1;33m             \u001b[0mself\u001b[0m\u001b[1;33m.\u001b[0m\u001b[0m_engine\u001b[0m \u001b[1;33m=\u001b[0m \u001b[0mCParserWrapper\u001b[0m\u001b[1;33m(\u001b[0m\u001b[0mself\u001b[0m\u001b[1;33m.\u001b[0m\u001b[0mf\u001b[0m\u001b[1;33m,\u001b[0m \u001b[1;33m**\u001b[0m\u001b[0mself\u001b[0m\u001b[1;33m.\u001b[0m\u001b[0moptions\u001b[0m\u001b[1;33m)\u001b[0m\u001b[1;33m\u001b[0m\u001b[0m\n\u001b[0m\u001b[0;32m   1050\u001b[0m         \u001b[1;32melse\u001b[0m\u001b[1;33m:\u001b[0m\u001b[1;33m\u001b[0m\u001b[0m\n\u001b[0;32m   1051\u001b[0m             \u001b[1;32mif\u001b[0m \u001b[0mengine\u001b[0m \u001b[1;33m==\u001b[0m \u001b[1;34m'python'\u001b[0m\u001b[1;33m:\u001b[0m\u001b[1;33m\u001b[0m\u001b[0m\n",
      "\u001b[1;32mD:\\Anaconda3\\lib\\site-packages\\pandas\\io\\parsers.py\u001b[0m in \u001b[0;36m__init__\u001b[1;34m(self, src, **kwds)\u001b[0m\n\u001b[0;32m   1693\u001b[0m         \u001b[0mkwds\u001b[0m\u001b[1;33m[\u001b[0m\u001b[1;34m'allow_leading_cols'\u001b[0m\u001b[1;33m]\u001b[0m \u001b[1;33m=\u001b[0m \u001b[0mself\u001b[0m\u001b[1;33m.\u001b[0m\u001b[0mindex_col\u001b[0m \u001b[1;32mis\u001b[0m \u001b[1;32mnot\u001b[0m \u001b[1;32mFalse\u001b[0m\u001b[1;33m\u001b[0m\u001b[0m\n\u001b[0;32m   1694\u001b[0m \u001b[1;33m\u001b[0m\u001b[0m\n\u001b[1;32m-> 1695\u001b[1;33m         \u001b[0mself\u001b[0m\u001b[1;33m.\u001b[0m\u001b[0m_reader\u001b[0m \u001b[1;33m=\u001b[0m \u001b[0mparsers\u001b[0m\u001b[1;33m.\u001b[0m\u001b[0mTextReader\u001b[0m\u001b[1;33m(\u001b[0m\u001b[0msrc\u001b[0m\u001b[1;33m,\u001b[0m \u001b[1;33m**\u001b[0m\u001b[0mkwds\u001b[0m\u001b[1;33m)\u001b[0m\u001b[1;33m\u001b[0m\u001b[0m\n\u001b[0m\u001b[0;32m   1696\u001b[0m \u001b[1;33m\u001b[0m\u001b[0m\n\u001b[0;32m   1697\u001b[0m         \u001b[1;31m# XXX\u001b[0m\u001b[1;33m\u001b[0m\u001b[1;33m\u001b[0m\u001b[0m\n",
      "\u001b[1;32mpandas/_libs/parsers.pyx\u001b[0m in \u001b[0;36mpandas._libs.parsers.TextReader.__cinit__\u001b[1;34m()\u001b[0m\n",
      "\u001b[1;32mpandas/_libs/parsers.pyx\u001b[0m in \u001b[0;36mpandas._libs.parsers.TextReader._setup_parser_source\u001b[1;34m()\u001b[0m\n",
      "\u001b[1;31mFileNotFoundError\u001b[0m: File b'SeriesRatingXGB.csv' does not exist"
     ]
    }
   ],
   "source": [
    "e=pd.read_csv('SeriesRatingXGB.csv')\n"
   ]
  },
  {
   "cell_type": "code",
   "execution_count": null,
   "metadata": {},
   "outputs": [],
   "source": []
  },
  {
   "cell_type": "code",
   "execution_count": null,
   "metadata": {},
   "outputs": [],
   "source": [
    "model2.fit(X_train, y_train)\n",
    "submit1 = pd.DataFrame(estimator.predict(X_test))\n",
    "submit1.to_csv(\"sample_submissionrf02.03.csv\")\n",
    "\n",
    "\n",
    "estimator=xgb.XGBRegressor(learning_rate=0.1, max_depth=8, n_estimators=700, n_jobs=-1  )\n",
    "score1=cross_val_score(estimator, X_train, y_train, cv=kf, n_jobs=-1, scoring='mean_squared_error')\n",
    "print(\"Score is\", score1.mean())\n",
    "estimator.fit(X_train, y_train)\n",
    "submit = pd.DataFrame(estimator.predict(X_test))\n",
    "submit.to_csv(\"sample_submissionxgb02.03.csv\")"
   ]
  }
 ],
 "metadata": {
  "kernelspec": {
   "display_name": "Python 3",
   "language": "python",
   "name": "python3"
  },
  "language_info": {
   "codemirror_mode": {
    "name": "ipython",
    "version": 3
   },
   "file_extension": ".py",
   "mimetype": "text/x-python",
   "name": "python",
   "nbconvert_exporter": "python",
   "pygments_lexer": "ipython3",
   "version": "3.6.6"
  }
 },
 "nbformat": 4,
 "nbformat_minor": 2
}
