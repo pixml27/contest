{
 "cells": [
  {
   "cell_type": "code",
   "execution_count": 1,
   "metadata": {},
   "outputs": [],
   "source": [
    "import os\n",
    "import json\n",
    "import pandas as pd\n",
    "import numpy as np\n",
    "train = pd.read_csv('transactions111.csv')\n",
    "test = pd.read_csv('transactions222.csv')"
   ]
  },
  {
   "cell_type": "code",
   "execution_count": 2,
   "metadata": {},
   "outputs": [
    {
     "name": "stdout",
     "output_type": "stream",
     "text": [
      "<class 'pandas.core.frame.DataFrame'>\n",
      "RangeIndex: 9643012 entries, 0 to 9643011\n",
      "Data columns (total 35 columns):\n",
      "Unnamed: 0                int64\n",
      "duration                  int64\n",
      "feature_1                 float64\n",
      "feature_2                 float64\n",
      "feature_3                 int64\n",
      "feature_4                 float64\n",
      "feature_5                 float64\n",
      "movie                     int64\n",
      "multipart_movie           int64\n",
      "series                    int64\n",
      "P                         int64\n",
      "R                         int64\n",
      "S                         int64\n",
      "wt_user_mean              float64\n",
      "per_user_mean             float64\n",
      "wt_element_mean           float64\n",
      "per_elemnt_mean           float64\n",
      "quantity_user_views       int64\n",
      "quantity_element_views    int64\n",
      "PPP                       int64\n",
      "PR                        int64\n",
      "PRS                       int64\n",
      "PS                        int64\n",
      "RRR                       int64\n",
      "RS                        int64\n",
      "SSS                       int64\n",
      "ts-f1                     float64\n",
      "interaction               int64\n",
      "a                         int64\n",
      "b                         int64\n",
      "c                         int64\n",
      "d                         int64\n",
      "e                         int64\n",
      "f                         int64\n",
      "aa                        int64\n",
      "dtypes: float64(9), int64(26)\n",
      "memory usage: 2.5 GB\n"
     ]
    }
   ],
   "source": [
    "train.info()"
   ]
  },
  {
   "cell_type": "code",
   "execution_count": 3,
   "metadata": {},
   "outputs": [
    {
     "name": "stdout",
     "output_type": "stream",
     "text": [
      "<class 'pandas.core.frame.DataFrame'>\n",
      "RangeIndex: 1622631 entries, 0 to 1622630\n",
      "Data columns (total 21 columns):\n",
      "Unnamed: 0                1622631 non-null int64\n",
      "user_uid                  1622631 non-null int64\n",
      "element_uid               1622631 non-null int64\n",
      "availability              1622631 non-null object\n",
      "duration                  1622631 non-null int64\n",
      "feature_1                 1622631 non-null float64\n",
      "feature_2                 1622631 non-null float64\n",
      "feature_3                 1622631 non-null int64\n",
      "feature_4                 1622631 non-null float64\n",
      "feature_5                 1622631 non-null float64\n",
      "type                      1622631 non-null object\n",
      "ts-f1                     1622631 non-null float64\n",
      "wt_user_mean              1622631 non-null float64\n",
      "quantity_user_views       1622631 non-null int64\n",
      "per_user_mean             1622631 non-null float64\n",
      "wt_element_mean           1622631 non-null float64\n",
      "quantity_element_views    1622631 non-null int64\n",
      "per_elemnt_mean           1622631 non-null float64\n",
      "movie                     1622631 non-null int64\n",
      "multipart_movie           1622631 non-null int64\n",
      "series                    1622631 non-null int64\n",
      "dtypes: float64(9), int64(10), object(2)\n",
      "memory usage: 260.0+ MB\n"
     ]
    }
   ],
   "source": [
    "test.info()"
   ]
  },
  {
   "cell_type": "code",
   "execution_count": 6,
   "metadata": {},
   "outputs": [
    {
     "data": {
      "text/plain": [
       "user_uid                  0.0\n",
       "element_uid               0.0\n",
       "availability              0.0\n",
       "duration                  0.0\n",
       "feature_1                 0.0\n",
       "feature_2                 0.0\n",
       "feature_3                 0.0\n",
       "feature_4                 0.0\n",
       "feature_5                 0.0\n",
       "type                      0.0\n",
       "ts-f1                     0.0\n",
       "wt_user_mean              0.0\n",
       "quantity_user_views       0.0\n",
       "per_user_mean             0.0\n",
       "wt_element_mean           0.0\n",
       "quantity_element_views    0.0\n",
       "per_elemnt_mean           0.0\n",
       "movie                     0.0\n",
       "multipart_movie           0.0\n",
       "series                    0.0\n",
       "dtype: float64"
      ]
     },
     "execution_count": 6,
     "metadata": {},
     "output_type": "execute_result"
    }
   ],
   "source": [
    "train=train.drop(['Unnamed: 0', 'P', 'R', 'S', 'PPP', 'PR', 'PRS','PS', 'RRR','RS','SSS','a','b','c','d','e','f','aa'],1)\n",
    "test=test.drop(['Unnamed: 0'],1)\n",
    "test.isnull().sum()/test.shape[0]"
   ]
  },
  {
   "cell_type": "code",
   "execution_count": 7,
   "metadata": {},
   "outputs": [
    {
     "data": {
      "text/plain": [
       "XGBClassifier(base_score=0.5, booster='gbtree', colsample_bylevel=1,\n",
       "       colsample_bytree=1, gamma=0, learning_rate=0.1, max_delta_step=0,\n",
       "       max_depth=8, min_child_weight=1, missing=None, n_estimators=700,\n",
       "       n_jobs=-1, nthread=None, objective='binary:logistic',\n",
       "       random_state=0, reg_alpha=0, reg_lambda=1, scale_pos_weight=1,\n",
       "       seed=None, silent=True, subsample=1)"
      ]
     },
     "execution_count": 7,
     "metadata": {},
     "output_type": "execute_result"
    }
   ],
   "source": [
    "\n",
    "\n",
    "import xgboost as xgb\n",
    "from sklearn.model_selection import GridSearchCV\n",
    "from sklearn.model_selection import KFold\n",
    "\n",
    "X_train=train\n",
    "X_train=X_train.drop(['interaction'],1)\n",
    "\n",
    "y_train=train.interaction \n",
    "\n",
    "\n",
    "estimator=xgb.XGBClassifier(n_estimators=700, max_depth=8, n_jobs=-1 )\n",
    "estimator.fit(X_train, y_train)\n"
   ]
  },
  {
   "cell_type": "code",
   "execution_count": 15,
   "metadata": {},
   "outputs": [
    {
     "name": "stdout",
     "output_type": "stream",
     "text": [
      "<class 'pandas.core.frame.DataFrame'>\n",
      "RangeIndex: 1622631 entries, 0 to 1622630\n",
      "Data columns (total 16 columns):\n",
      "duration                  1622631 non-null int64\n",
      "feature_1                 1622631 non-null float64\n",
      "feature_2                 1622631 non-null float64\n",
      "feature_3                 1622631 non-null int64\n",
      "feature_4                 1622631 non-null float64\n",
      "feature_5                 1622631 non-null float64\n",
      "movie                     1622631 non-null int64\n",
      "multipart_movie           1622631 non-null int64\n",
      "series                    1622631 non-null int64\n",
      "wt_user_mean              1622631 non-null float64\n",
      "per_user_mean             1622631 non-null float64\n",
      "wt_element_mean           1622631 non-null float64\n",
      "per_elemnt_mean           1622631 non-null float64\n",
      "quantity_user_views       1622631 non-null int64\n",
      "quantity_element_views    1622631 non-null int64\n",
      "ts-f1                     1622631 non-null float64\n",
      "dtypes: float64(9), int64(7)\n",
      "memory usage: 198.1 MB\n"
     ]
    }
   ],
   "source": [
    "X_test.info()"
   ]
  },
  {
   "cell_type": "code",
   "execution_count": 11,
   "metadata": {},
   "outputs": [],
   "source": [
    "X_test=test[['duration',\n",
    "'feature_1',\n",
    "'feature_2',\n",
    "'feature_3',\n",
    "'feature_4',\n",
    "'feature_5',\n",
    "'movie',\n",
    "'multipart_movie',\n",
    "'series',\n",
    "'wt_user_mean',           \n",
    "'per_user_mean',\n",
    "'wt_element_mean',\n",
    "'per_elemnt_mean',  \n",
    "'quantity_user_views', \n",
    "'quantity_element_views',\n",
    "'ts-f1'  ]]\n"
   ]
  },
  {
   "cell_type": "code",
   "execution_count": 16,
   "metadata": {},
   "outputs": [],
   "source": [
    "\n",
    "submit=estimator.predict_proba(X_test)"
   ]
  },
  {
   "cell_type": "code",
   "execution_count": 17,
   "metadata": {},
   "outputs": [
    {
     "data": {
      "text/html": [
       "<div>\n",
       "<style scoped>\n",
       "    .dataframe tbody tr th:only-of-type {\n",
       "        vertical-align: middle;\n",
       "    }\n",
       "\n",
       "    .dataframe tbody tr th {\n",
       "        vertical-align: top;\n",
       "    }\n",
       "\n",
       "    .dataframe thead th {\n",
       "        text-align: right;\n",
       "    }\n",
       "</style>\n",
       "<table border=\"1\" class=\"dataframe\">\n",
       "  <thead>\n",
       "    <tr style=\"text-align: right;\">\n",
       "      <th></th>\n",
       "      <th>user_uid</th>\n",
       "      <th>element_uid</th>\n",
       "      <th>0</th>\n",
       "      <th>1</th>\n",
       "    </tr>\n",
       "  </thead>\n",
       "  <tbody>\n",
       "    <tr>\n",
       "      <th>0</th>\n",
       "      <td>0</td>\n",
       "      <td>7079</td>\n",
       "      <td>0.164395</td>\n",
       "      <td>0.835605</td>\n",
       "    </tr>\n",
       "    <tr>\n",
       "      <th>1</th>\n",
       "      <td>131072</td>\n",
       "      <td>7079</td>\n",
       "      <td>0.114669</td>\n",
       "      <td>0.885331</td>\n",
       "    </tr>\n",
       "    <tr>\n",
       "      <th>2</th>\n",
       "      <td>393222</td>\n",
       "      <td>7079</td>\n",
       "      <td>0.451093</td>\n",
       "      <td>0.548907</td>\n",
       "    </tr>\n",
       "    <tr>\n",
       "      <th>3</th>\n",
       "      <td>262154</td>\n",
       "      <td>7079</td>\n",
       "      <td>0.157323</td>\n",
       "      <td>0.842677</td>\n",
       "    </tr>\n",
       "    <tr>\n",
       "      <th>4</th>\n",
       "      <td>13</td>\n",
       "      <td>7079</td>\n",
       "      <td>0.494458</td>\n",
       "      <td>0.505542</td>\n",
       "    </tr>\n",
       "  </tbody>\n",
       "</table>\n",
       "</div>"
      ],
      "text/plain": [
       "   user_uid  element_uid         0         1\n",
       "0         0         7079  0.164395  0.835605\n",
       "1    131072         7079  0.114669  0.885331\n",
       "2    393222         7079  0.451093  0.548907\n",
       "3    262154         7079  0.157323  0.842677\n",
       "4        13         7079  0.494458  0.505542"
      ]
     },
     "execution_count": 17,
     "metadata": {},
     "output_type": "execute_result"
    }
   ],
   "source": [
    "submit=pd.DataFrame(submit)\n",
    "bam=test[['user_uid','element_uid']]\n",
    "\n",
    "bam=bam.reset_index()\n",
    "bam=bam.drop(['index'], 1)\n",
    "OLD=pd.concat([bam, submit], 1)\n",
    "OLD.head()"
   ]
  },
  {
   "cell_type": "code",
   "execution_count": 18,
   "metadata": {},
   "outputs": [],
   "source": [
    "OLD['rating']=OLD[1]\n",
    "OLD=OLD.drop([0, 1],1)\n",
    "OLD=OLD.sort_values(by=['user_uid', 'rating'], ascending=False)\n",
    "\n",
    "result={}\n",
    "for user_uid in pd.unique(OLD.user_uid):\n",
    "    result[(user_uid).astype(str)] = OLD.element_uid[OLD.user_uid == user_uid].values.tolist()[:20]\n",
    "    \n",
    "with open('okkoend.json', 'w') as f:\n",
    "    json.dump(result, f)\n"
   ]
  },
  {
   "cell_type": "code",
   "execution_count": null,
   "metadata": {},
   "outputs": [],
   "source": []
  }
 ],
 "metadata": {
  "kernelspec": {
   "display_name": "Python 3",
   "language": "python",
   "name": "python3"
  },
  "language_info": {
   "codemirror_mode": {
    "name": "ipython",
    "version": 3
   },
   "file_extension": ".py",
   "mimetype": "text/x-python",
   "name": "python",
   "nbconvert_exporter": "python",
   "pygments_lexer": "ipython3",
   "version": "3.6.6"
  }
 },
 "nbformat": 4,
 "nbformat_minor": 2
}
