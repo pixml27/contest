{
 "cells": [
  {
   "cell_type": "code",
   "execution_count": 1,
   "metadata": {},
   "outputs": [],
   "source": [
    "import os\n",
    "import json\n",
    "import pandas as pd\n",
    "import numpy as np\n",
    "import tqdm\n",
    "import scipy.sparse as sp\n",
    "\n",
    "from pprint import pprint\n",
    "from collections import defaultdict\n",
    "\n",
    "DATA_PATH = 'D:\\download'\n",
    "with open(os.path.join(DATA_PATH, 'test_users.json'), 'r') as f:\n",
    "    test_users = set(json.load(f)['users'])\n",
    "    \n",
    "transactions = pd.read_csv(\n",
    "    os.path.join(DATA_PATH, 'transactions.csv'),\n",
    "    dtype={\n",
    "        'element_uid': np.uint16,\n",
    "        'user_uid': np.uint32,\n",
    "        'consumption_mode': 'category',\n",
    "        'ts': np.float64,\n",
    "        'watched_time': np.uint64,\n",
    "        'device_type': np.uint8,\n",
    "        'device_manufacturer': np.uint8\n",
    "    }\n",
    ")\n"
   ]
  },
  {
   "cell_type": "code",
   "execution_count": 78,
   "metadata": {},
   "outputs": [],
   "source": [
    "#Generate OLD2\n",
    "OLD2=pd.read_csv(os.path.join(DATA_PATH, 'OLD2(doobuch).csv'))"
   ]
  },
  {
   "cell_type": "code",
   "execution_count": 22,
   "metadata": {},
   "outputs": [],
   "source": [
    "OLD2=pd.read_csv(os.path.join(DATA_PATH, 'OLD(02.03RF).csv'))"
   ]
  },
  {
   "cell_type": "code",
   "execution_count": 9,
   "metadata": {},
   "outputs": [
    {
     "data": {
      "text/plain": [
       "12.144815"
      ]
     },
     "execution_count": 9,
     "metadata": {},
     "output_type": "execute_result"
    }
   ],
   "source": [
    "from collections import Counter\n",
    "max(Counter(OLD2.rating))"
   ]
  },
  {
   "cell_type": "code",
   "execution_count": 29,
   "metadata": {},
   "outputs": [],
   "source": [
    "\n",
    "book_exp3=pd.read_csv(os.path.join(DATA_PATH, 'book_exp3.csv'))\n",
    "book_exp3['rating']=6.0"
   ]
  },
  {
   "cell_type": "code",
   "execution_count": 53,
   "metadata": {},
   "outputs": [],
   "source": [
    "OLD2=OLD2.append(book_exp3)"
   ]
  },
  {
   "cell_type": "code",
   "execution_count": 41,
   "metadata": {},
   "outputs": [
    {
     "data": {
      "text/html": [
       "<div>\n",
       "<style scoped>\n",
       "    .dataframe tbody tr th:only-of-type {\n",
       "        vertical-align: middle;\n",
       "    }\n",
       "\n",
       "    .dataframe tbody tr th {\n",
       "        vertical-align: top;\n",
       "    }\n",
       "\n",
       "    .dataframe thead th {\n",
       "        text-align: right;\n",
       "    }\n",
       "</style>\n",
       "<table border=\"1\" class=\"dataframe\">\n",
       "  <thead>\n",
       "    <tr style=\"text-align: right;\">\n",
       "      <th></th>\n",
       "      <th>Unnamed: 0</th>\n",
       "      <th>user_uid</th>\n",
       "      <th>element_uid</th>\n",
       "      <th>rating</th>\n",
       "    </tr>\n",
       "  </thead>\n",
       "  <tbody>\n",
       "    <tr>\n",
       "      <th>0</th>\n",
       "      <td>0</td>\n",
       "      <td>301135</td>\n",
       "      <td>7185</td>\n",
       "      <td>6.0</td>\n",
       "    </tr>\n",
       "    <tr>\n",
       "      <th>1</th>\n",
       "      <td>1</td>\n",
       "      <td>301135</td>\n",
       "      <td>4083</td>\n",
       "      <td>6.0</td>\n",
       "    </tr>\n",
       "    <tr>\n",
       "      <th>2</th>\n",
       "      <td>2</td>\n",
       "      <td>301135</td>\n",
       "      <td>10158</td>\n",
       "      <td>6.0</td>\n",
       "    </tr>\n",
       "    <tr>\n",
       "      <th>3</th>\n",
       "      <td>3</td>\n",
       "      <td>301135</td>\n",
       "      <td>2693</td>\n",
       "      <td>6.0</td>\n",
       "    </tr>\n",
       "    <tr>\n",
       "      <th>4</th>\n",
       "      <td>4</td>\n",
       "      <td>301135</td>\n",
       "      <td>2181</td>\n",
       "      <td>6.0</td>\n",
       "    </tr>\n",
       "  </tbody>\n",
       "</table>\n",
       "</div>"
      ],
      "text/plain": [
       "   Unnamed: 0  user_uid  element_uid  rating\n",
       "0           0    301135         7185     6.0\n",
       "1           1    301135         4083     6.0\n",
       "2           2    301135        10158     6.0\n",
       "3           3    301135         2693     6.0\n",
       "4           4    301135         2181     6.0"
      ]
     },
     "execution_count": 41,
     "metadata": {},
     "output_type": "execute_result"
    }
   ],
   "source": [
    "book_exp3.head()"
   ]
  },
  {
   "cell_type": "code",
   "execution_count": 79,
   "metadata": {},
   "outputs": [
    {
     "name": "stdout",
     "output_type": "stream",
     "text": [
      "<class 'pandas.core.frame.DataFrame'>\n",
      "RangeIndex: 9724459 entries, 0 to 9724458\n",
      "Data columns (total 5 columns):\n",
      "Unnamed: 0     int64\n",
      "element_uid    int64\n",
      "rating         float64\n",
      "ts             float64\n",
      "user_uid       int64\n",
      "dtypes: float64(2), int64(3)\n",
      "memory usage: 371.0 MB\n"
     ]
    }
   ],
   "source": [
    "OLD2.info()"
   ]
  },
  {
   "cell_type": "code",
   "execution_count": 58,
   "metadata": {},
   "outputs": [
    {
     "data": {
      "text/html": [
       "<div>\n",
       "<style scoped>\n",
       "    .dataframe tbody tr th:only-of-type {\n",
       "        vertical-align: middle;\n",
       "    }\n",
       "\n",
       "    .dataframe tbody tr th {\n",
       "        vertical-align: top;\n",
       "    }\n",
       "\n",
       "    .dataframe thead th {\n",
       "        text-align: right;\n",
       "    }\n",
       "</style>\n",
       "<table border=\"1\" class=\"dataframe\">\n",
       "  <thead>\n",
       "    <tr style=\"text-align: right;\">\n",
       "      <th></th>\n",
       "      <th>Unnamed: 0</th>\n",
       "      <th>Unnamed: 0.1</th>\n",
       "      <th>element_uid</th>\n",
       "      <th>user_uid</th>\n",
       "      <th>watched_time</th>\n",
       "      <th>rating</th>\n",
       "      <th>duration</th>\n",
       "      <th>feature_1</th>\n",
       "      <th>feature_2</th>\n",
       "      <th>feature_3</th>\n",
       "      <th>...</th>\n",
       "      <th>feature_5_44</th>\n",
       "      <th>smallf3</th>\n",
       "      <th>middlef3</th>\n",
       "      <th>bigf3</th>\n",
       "      <th>type_m</th>\n",
       "      <th>type_s</th>\n",
       "      <th>type_mm</th>\n",
       "      <th>longfilm</th>\n",
       "      <th>shortfilm</th>\n",
       "      <th>worst</th>\n",
       "    </tr>\n",
       "  </thead>\n",
       "  <tbody>\n",
       "    <tr>\n",
       "      <th>24</th>\n",
       "      <td>24</td>\n",
       "      <td>24</td>\n",
       "      <td>3336</td>\n",
       "      <td>319767</td>\n",
       "      <td>0.043704</td>\n",
       "      <td>2.0</td>\n",
       "      <td>90</td>\n",
       "      <td>4.166108e+07</td>\n",
       "      <td>0.739609</td>\n",
       "      <td>45</td>\n",
       "      <td>...</td>\n",
       "      <td>0</td>\n",
       "      <td>0</td>\n",
       "      <td>0</td>\n",
       "      <td>1</td>\n",
       "      <td>1</td>\n",
       "      <td>0</td>\n",
       "      <td>0</td>\n",
       "      <td>0</td>\n",
       "      <td>0</td>\n",
       "      <td>1</td>\n",
       "    </tr>\n",
       "    <tr>\n",
       "      <th>33</th>\n",
       "      <td>33</td>\n",
       "      <td>33</td>\n",
       "      <td>3336</td>\n",
       "      <td>34784</td>\n",
       "      <td>0.039630</td>\n",
       "      <td>2.0</td>\n",
       "      <td>90</td>\n",
       "      <td>4.166108e+07</td>\n",
       "      <td>0.739609</td>\n",
       "      <td>45</td>\n",
       "      <td>...</td>\n",
       "      <td>0</td>\n",
       "      <td>0</td>\n",
       "      <td>0</td>\n",
       "      <td>1</td>\n",
       "      <td>1</td>\n",
       "      <td>0</td>\n",
       "      <td>0</td>\n",
       "      <td>0</td>\n",
       "      <td>0</td>\n",
       "      <td>1</td>\n",
       "    </tr>\n",
       "    <tr>\n",
       "      <th>39</th>\n",
       "      <td>39</td>\n",
       "      <td>39</td>\n",
       "      <td>3336</td>\n",
       "      <td>313840</td>\n",
       "      <td>0.025556</td>\n",
       "      <td>2.0</td>\n",
       "      <td>90</td>\n",
       "      <td>4.166108e+07</td>\n",
       "      <td>0.739609</td>\n",
       "      <td>45</td>\n",
       "      <td>...</td>\n",
       "      <td>0</td>\n",
       "      <td>0</td>\n",
       "      <td>0</td>\n",
       "      <td>1</td>\n",
       "      <td>1</td>\n",
       "      <td>0</td>\n",
       "      <td>0</td>\n",
       "      <td>0</td>\n",
       "      <td>0</td>\n",
       "      <td>1</td>\n",
       "    </tr>\n",
       "    <tr>\n",
       "      <th>42</th>\n",
       "      <td>42</td>\n",
       "      <td>42</td>\n",
       "      <td>3336</td>\n",
       "      <td>525419</td>\n",
       "      <td>0.008889</td>\n",
       "      <td>2.0</td>\n",
       "      <td>90</td>\n",
       "      <td>4.166108e+07</td>\n",
       "      <td>0.739609</td>\n",
       "      <td>45</td>\n",
       "      <td>...</td>\n",
       "      <td>0</td>\n",
       "      <td>0</td>\n",
       "      <td>0</td>\n",
       "      <td>1</td>\n",
       "      <td>1</td>\n",
       "      <td>0</td>\n",
       "      <td>0</td>\n",
       "      <td>0</td>\n",
       "      <td>0</td>\n",
       "      <td>1</td>\n",
       "    </tr>\n",
       "    <tr>\n",
       "      <th>60</th>\n",
       "      <td>60</td>\n",
       "      <td>60</td>\n",
       "      <td>3336</td>\n",
       "      <td>273211</td>\n",
       "      <td>0.013148</td>\n",
       "      <td>2.0</td>\n",
       "      <td>90</td>\n",
       "      <td>4.166108e+07</td>\n",
       "      <td>0.739609</td>\n",
       "      <td>45</td>\n",
       "      <td>...</td>\n",
       "      <td>0</td>\n",
       "      <td>0</td>\n",
       "      <td>0</td>\n",
       "      <td>1</td>\n",
       "      <td>1</td>\n",
       "      <td>0</td>\n",
       "      <td>0</td>\n",
       "      <td>0</td>\n",
       "      <td>0</td>\n",
       "      <td>1</td>\n",
       "    </tr>\n",
       "  </tbody>\n",
       "</table>\n",
       "<p>5 rows × 31 columns</p>\n",
       "</div>"
      ],
      "text/plain": [
       "    Unnamed: 0  Unnamed: 0.1  element_uid  user_uid  watched_time  rating  \\\n",
       "24          24            24         3336    319767      0.043704     2.0   \n",
       "33          33            33         3336     34784      0.039630     2.0   \n",
       "39          39            39         3336    313840      0.025556     2.0   \n",
       "42          42            42         3336    525419      0.008889     2.0   \n",
       "60          60            60         3336    273211      0.013148     2.0   \n",
       "\n",
       "    duration     feature_1  feature_2  feature_3  ...    feature_5_44  \\\n",
       "24        90  4.166108e+07   0.739609         45  ...               0   \n",
       "33        90  4.166108e+07   0.739609         45  ...               0   \n",
       "39        90  4.166108e+07   0.739609         45  ...               0   \n",
       "42        90  4.166108e+07   0.739609         45  ...               0   \n",
       "60        90  4.166108e+07   0.739609         45  ...               0   \n",
       "\n",
       "    smallf3  middlef3  bigf3  type_m  type_s  type_mm  longfilm  shortfilm  \\\n",
       "24        0         0      1       1       0        0         0          0   \n",
       "33        0         0      1       1       0        0         0          0   \n",
       "39        0         0      1       1       0        0         0          0   \n",
       "42        0         0      1       1       0        0         0          0   \n",
       "60        0         0      1       1       0        0         0          0   \n",
       "\n",
       "    worst  \n",
       "24      1  \n",
       "33      1  \n",
       "39      1  \n",
       "42      1  \n",
       "60      1  \n",
       "\n",
       "[5 rows x 31 columns]"
      ]
     },
     "execution_count": 58,
     "metadata": {},
     "output_type": "execute_result"
    }
   ],
   "source": [
    "transactions_exp=pd.read_csv(os.path.join(DATA_PATH, 'transactions_exp.csv'))\n",
    "\n",
    "transactions_exp3=transactions_exp\n",
    "transactions_exp3['worst']=transactions_exp3.watched_time.map(lambda x:1 if x < 0.1 and x >0.005 else 0)\n",
    "\n",
    "transactions_exp33=transactions_exp3[transactions_exp3.worst == 1]\n",
    "\n",
    "transactions_exp333=transactions_exp33[transactions_exp33.rating.isnull()== True]\n",
    "transactions_exp333=transactions_exp333.fillna(2.0)\n",
    "transactions_exp333.head()"
   ]
  },
  {
   "cell_type": "code",
   "execution_count": 80,
   "metadata": {
    "scrolled": true
   },
   "outputs": [],
   "source": [
    "OLD2=OLD2.drop(['Unnamed: 0', 'ts'],1)"
   ]
  },
  {
   "cell_type": "code",
   "execution_count": 70,
   "metadata": {},
   "outputs": [],
   "source": [
    "OLD2=OLD2.drop(['worst'],1)"
   ]
  },
  {
   "cell_type": "code",
   "execution_count": 54,
   "metadata": {},
   "outputs": [
    {
     "data": {
      "text/plain": [
       "9580"
      ]
     },
     "execution_count": 54,
     "metadata": {},
     "output_type": "execute_result"
    }
   ],
   "source": [
    "len(pd.unique(OLD2.element_uid))"
   ]
  },
  {
   "cell_type": "code",
   "execution_count": 49,
   "metadata": {},
   "outputs": [
    {
     "data": {
      "text/plain": [
       "9580"
      ]
     },
     "execution_count": 49,
     "metadata": {},
     "output_type": "execute_result"
    }
   ],
   "source": [
    "ratings_matrix.shape[0]"
   ]
  },
  {
   "cell_type": "code",
   "execution_count": null,
   "metadata": {},
   "outputs": [],
   "source": []
  },
  {
   "cell_type": "code",
   "execution_count": 12,
   "metadata": {},
   "outputs": [],
   "source": [
    "transactions_exp1=pd.read_csv(os.path.join(DATA_PATH, 'transactions_exp1.csv'))"
   ]
  },
  {
   "cell_type": "code",
   "execution_count": 13,
   "metadata": {},
   "outputs": [],
   "source": [
    "transactions_exp1['worst']=transactions_exp1.watched_time.map(lambda x:1 if x < 0.2 else 0)\n",
    "transactions_exp1['watched']=transactions_exp1.watched_time.map(lambda x: 0 if x < 0.51 else 1)"
   ]
  },
  {
   "cell_type": "code",
   "execution_count": 14,
   "metadata": {},
   "outputs": [],
   "source": [
    "transactions_exp0=transactions_exp1[transactions_exp1.worst == 1]"
   ]
  },
  {
   "cell_type": "code",
   "execution_count": 62,
   "metadata": {},
   "outputs": [],
   "source": [
    "\n",
    "transactions_exp333=transactions_exp333.drop([\n",
    "    'rating_mean',\n",
    "'watched_time',    \n",
    "'duration'  ,      \n",
    "'feature_2'  ,   \n",
    "'feature_3'  ,   \n",
    "'feature_4'  ,   \n",
    "'quantity'  ,    \n",
    "'CM_S'  ,        \n",
    "'CM_P',  \n",
    "'CM_R'  ,        \n",
    "'feature_5_65' , \n",
    "'feature_5_00'  ,\n",
    "'feature_5_68'  ,\n",
    "'feature_5_59'  ,\n",
    "'feature_5_-1'  ,\n",
    "'feature_5_44'  ,\n",
    "'smallf3' ,      \n",
    "'middlef3'  ,    \n",
    "'bigf3',         \n",
    "'type_m',     \n",
    "'type_s'  ,      \n",
    "'type_mm',\n",
    "'Unnamed: 0',\n",
    "'Unnamed: 0.1',\n",
    "'feature_1',\n",
    "'longfilm',\n",
    "'shortfilm',\n",
    "], 1)"
   ]
  },
  {
   "cell_type": "code",
   "execution_count": 63,
   "metadata": {},
   "outputs": [],
   "source": [
    "transactions_exp333=transactions_exp333.drop([\n",
    "'worst' ], 1)"
   ]
  },
  {
   "cell_type": "code",
   "execution_count": 66,
   "metadata": {},
   "outputs": [],
   "source": [
    "OLD2=OLD2.append(transactions_exp333)"
   ]
  },
  {
   "cell_type": "code",
   "execution_count": 76,
   "metadata": {},
   "outputs": [
    {
     "name": "stdout",
     "output_type": "stream",
     "text": [
      "<class 'pandas.core.frame.DataFrame'>\n",
      "RangeIndex: 9745576 entries, 0 to 9745575\n",
      "Data columns (total 3 columns):\n",
      "element_uid    int64\n",
      "rating         float64\n",
      "user_uid       int64\n",
      "dtypes: float64(1), int64(2)\n",
      "memory usage: 223.1 MB\n"
     ]
    }
   ],
   "source": [
    "OLD2.info()"
   ]
  },
  {
   "cell_type": "code",
   "execution_count": 85,
   "metadata": {},
   "outputs": [
    {
     "name": "stdout",
     "output_type": "stream",
     "text": [
      "<class 'pandas.core.frame.DataFrame'>\n",
      "RangeIndex: 9724459 entries, 0 to 9724458\n",
      "Data columns (total 3 columns):\n",
      "element_uid    int64\n",
      "rating         float64\n",
      "user_uid       int64\n",
      "dtypes: float64(1), int64(2)\n",
      "memory usage: 222.6 MB\n"
     ]
    }
   ],
   "source": [
    "OLDbase.info()"
   ]
  },
  {
   "cell_type": "code",
   "execution_count": null,
   "metadata": {
    "scrolled": true
   },
   "outputs": [],
   "source": [
    "OLD2=pd.read_csv(os.path.join(DATA_PATH, 'OLD2(doobuch).csv'))"
   ]
  },
  {
   "cell_type": "code",
   "execution_count": 82,
   "metadata": {},
   "outputs": [],
   "source": [
    "OLDbase=pd.read_csv(os.path.join(DATA_PATH, 'OLD2(base).csv'))"
   ]
  },
  {
   "cell_type": "code",
   "execution_count": 84,
   "metadata": {},
   "outputs": [],
   "source": [
    "OLDbase=OLDbase.drop(['Unnamed: 0'],1)"
   ]
  },
  {
   "cell_type": "code",
   "execution_count": 86,
   "metadata": {},
   "outputs": [],
   "source": [
    "OLD2=pd.merge(OLD2, OLDbase, how='left', on=['element_uid', 'user_uid'])"
   ]
  },
  {
   "cell_type": "code",
   "execution_count": 90,
   "metadata": {},
   "outputs": [],
   "source": [
    "OLD2['rating']=(OLD2['rating_x'] + OLD2['rating_y'])/2"
   ]
  },
  {
   "cell_type": "code",
   "execution_count": 92,
   "metadata": {},
   "outputs": [
    {
     "data": {
      "text/html": [
       "<div>\n",
       "<style scoped>\n",
       "    .dataframe tbody tr th:only-of-type {\n",
       "        vertical-align: middle;\n",
       "    }\n",
       "\n",
       "    .dataframe tbody tr th {\n",
       "        vertical-align: top;\n",
       "    }\n",
       "\n",
       "    .dataframe thead th {\n",
       "        text-align: right;\n",
       "    }\n",
       "</style>\n",
       "<table border=\"1\" class=\"dataframe\">\n",
       "  <thead>\n",
       "    <tr style=\"text-align: right;\">\n",
       "      <th></th>\n",
       "      <th>element_uid</th>\n",
       "      <th>user_uid</th>\n",
       "      <th>rating</th>\n",
       "    </tr>\n",
       "  </thead>\n",
       "  <tbody>\n",
       "    <tr>\n",
       "      <th>0</th>\n",
       "      <td>3336</td>\n",
       "      <td>349202</td>\n",
       "      <td>8.260666</td>\n",
       "    </tr>\n",
       "    <tr>\n",
       "      <th>1</th>\n",
       "      <td>3336</td>\n",
       "      <td>117582</td>\n",
       "      <td>8.327081</td>\n",
       "    </tr>\n",
       "    <tr>\n",
       "      <th>2</th>\n",
       "      <td>3336</td>\n",
       "      <td>523833</td>\n",
       "      <td>8.374942</td>\n",
       "    </tr>\n",
       "    <tr>\n",
       "      <th>3</th>\n",
       "      <td>3336</td>\n",
       "      <td>571064</td>\n",
       "      <td>8.350659</td>\n",
       "    </tr>\n",
       "    <tr>\n",
       "      <th>4</th>\n",
       "      <td>3336</td>\n",
       "      <td>295727</td>\n",
       "      <td>8.327456</td>\n",
       "    </tr>\n",
       "  </tbody>\n",
       "</table>\n",
       "</div>"
      ],
      "text/plain": [
       "   element_uid  user_uid    rating\n",
       "0         3336    349202  8.260666\n",
       "1         3336    117582  8.327081\n",
       "2         3336    523833  8.374942\n",
       "3         3336    571064  8.350659\n",
       "4         3336    295727  8.327456"
      ]
     },
     "execution_count": 92,
     "metadata": {},
     "output_type": "execute_result"
    }
   ],
   "source": [
    "OLD2=OLD2.drop(['rating_x', 'rating_y'],1)\n",
    "OLD2.head()"
   ]
  },
  {
   "cell_type": "code",
   "execution_count": null,
   "metadata": {},
   "outputs": [],
   "source": []
  },
  {
   "cell_type": "code",
   "execution_count": null,
   "metadata": {},
   "outputs": [],
   "source": []
  },
  {
   "cell_type": "code",
   "execution_count": null,
   "metadata": {},
   "outputs": [],
   "source": []
  },
  {
   "cell_type": "code",
   "execution_count": null,
   "metadata": {},
   "outputs": [],
   "source": []
  },
  {
   "cell_type": "code",
   "execution_count": null,
   "metadata": {},
   "outputs": [],
   "source": []
  },
  {
   "cell_type": "code",
   "execution_count": 93,
   "metadata": {
    "scrolled": true
   },
   "outputs": [
    {
     "name": "stderr",
     "output_type": "stream",
     "text": [
      "100%|████████████████████████████| 9643012/9643012 [00:15<00:00, 642830.69it/s]\n"
     ]
    },
    {
     "name": "stdout",
     "output_type": "stream",
     "text": [
      "Sparsity: 0.002243\n"
     ]
    },
    {
     "name": "stderr",
     "output_type": "stream",
     "text": [
      "100%|███████████████████████████████████| 8670/8670 [00:00<00:00, 10175.47it/s]\n",
      "100%|██████████████████████████████████| 50000/50000 [00:14<00:00, 3548.66it/s]\n"
     ]
    }
   ],
   "source": [
    "\n",
    "filtered_elements = defaultdict(set)\n",
    "for user_uid, element_uid in tqdm.tqdm(transactions.loc[:, ['user_uid', 'element_uid']].values):\n",
    "    if user_uid not in test_users:\n",
    "        continue\n",
    "    filtered_elements[user_uid].add(element_uid)\n",
    "OLD2['user_uid'] = OLD2['user_uid'].astype('category')\n",
    "OLD2['element_uid'] = OLD2['element_uid'].astype('category')\n",
    "ratings_matrix = sp.coo_matrix(\n",
    "    (OLD2['rating'].astype(np.float32) + 1,\n",
    "        (\n",
    "            OLD2['element_uid'].cat.codes.copy(),\n",
    "            OLD2['user_uid'].cat.codes.copy()\n",
    "        )\n",
    "    )\n",
    ")\n",
    "\n",
    "ratings_matrix = ratings_matrix.tocsr()\n",
    "sparsity = ratings_matrix.nnz / (ratings_matrix.shape[0] * ratings_matrix.shape[1])\n",
    "print('Sparsity: %.6f' % sparsity)\n",
    "from implicit.nearest_neighbours import TFIDFRecommender\n",
    "\n",
    "model = TFIDFRecommender()\n",
    "model.fit(ratings_matrix)\n",
    "ratings_matrix_T = ratings_matrix.T.tocsr()\n",
    "user_uid_to_cat = dict(zip(\n",
    "    OLD2['user_uid'].cat.categories,\n",
    "    range(len(OLD2['user_uid'].cat.categories))\n",
    "))\n",
    "element_uid_to_cat = dict(zip(\n",
    "    OLD2['element_uid'].cat.categories,\n",
    "    range(len(OLD2['element_uid'].cat.categories))\n",
    "))\n",
    "filtered_elements_cat = {k: [element_uid_to_cat.get(x, None) for x in v] for k, v in filtered_elements.items()}\n",
    "result = {}\n",
    "\n",
    "for user_uid in tqdm.tqdm(test_users):\n",
    "    # transform user_uid to model's internal user category\n",
    "    try:\n",
    "        user_cat = user_uid_to_cat[user_uid]\n",
    "    except LookupError:\n",
    "        continue\n",
    "    \n",
    "    # perform inference\n",
    "    recs = model.recommend(\n",
    "        user_cat,\n",
    "        ratings_matrix_T,\n",
    "        N=20,\n",
    "        filter_already_liked_items=True,\n",
    "        filter_items=filtered_elements_cat.get(user_uid, set())\n",
    "    )\n",
    "    \n",
    "    # drop scores and transform model's internal elelemnt category to element_uid for every prediction\n",
    "    # also convert np.uint64 to int so it could be json serialized later\n",
    "    result[user_uid] = [int(OLD2['element_uid'].cat.categories[i]) for i, _ in recs]\n",
    "with open('answer(1).json', 'w') as f:\n",
    "    json.dump(result, f)"
   ]
  },
  {
   "cell_type": "code",
   "execution_count": 6,
   "metadata": {},
   "outputs": [
    {
     "name": "stdout",
     "output_type": "stream",
     "text": [
      "<class 'pandas.core.frame.DataFrame'>\n",
      "RangeIndex: 9724459 entries, 0 to 9724458\n",
      "Data columns (total 4 columns):\n",
      "Unnamed: 0     int64\n",
      "element_uid    category\n",
      "rating         float64\n",
      "user_uid       category\n",
      "dtypes: category(2), float64(1), int64(1)\n",
      "memory usage: 228.2 MB\n"
     ]
    }
   ],
   "source": [
    "OLD2.info()"
   ]
  },
  {
   "cell_type": "code",
   "execution_count": null,
   "metadata": {},
   "outputs": [],
   "source": []
  }
 ],
 "metadata": {
  "kernelspec": {
   "display_name": "Python 3",
   "language": "python",
   "name": "python3"
  },
  "language_info": {
   "codemirror_mode": {
    "name": "ipython",
    "version": 3
   },
   "file_extension": ".py",
   "mimetype": "text/x-python",
   "name": "python",
   "nbconvert_exporter": "python",
   "pygments_lexer": "ipython3",
   "version": "3.6.7"
  }
 },
 "nbformat": 4,
 "nbformat_minor": 2
}
